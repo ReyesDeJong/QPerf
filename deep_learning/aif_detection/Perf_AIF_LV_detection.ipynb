{
 "cells": [
  {
   "cell_type": "markdown",
   "metadata": {},
   "source": [
    "#  Automated detection of LV from arterial input function (AIF) image series for cardiac MR perfusion with model deployment to MR scanner\n",
    "\n",
    "**Author**: `Hui Xue <hui.xue@nih.gov>`"
   ]
  },
  {
   "cell_type": "code",
   "execution_count": 1,
   "metadata": {
    "ExecuteTime": {
     "end_time": "2019-07-23T15:22:09.606176Z",
     "start_time": "2019-07-23T15:22:09.382818Z"
    }
   },
   "outputs": [
    {
     "data": {
      "text/html": [
       "<style>.container { width:90% !important; }</style>"
      ],
      "text/plain": [
       "<IPython.core.display.HTML object>"
      ]
     },
     "metadata": {},
     "output_type": "display_data"
    }
   ],
   "source": [
    "#import os\n",
    "#os.environ['CUDA_DEVICE_ORDER']='PCI_BUS_ID'\n",
    "#os.environ['CUDA_VISIBLE_DEVICES']='1,2'\n",
    "\n",
    "from IPython.core.display import display, HTML\n",
    "display(HTML(\"<style>.container { width:90% !important; }</style>\"))\n",
    "\n",
    "import torch\n",
    "import torch.nn as nn\n",
    "import torch.optim as optim\n",
    "from torch.utils.data import DataLoader\n",
    "from torch.utils.data import sampler\n",
    "import torch.onnx\n",
    "import torch.nn.functional as F\n",
    "import torchvision.datasets as dset\n",
    "import torchvision.transforms as T\n",
    "from torchvision.utils import *\n",
    "\n",
    "import numpy as np\n",
    "import collections\n",
    "import matplotlib.pyplot as plt\n",
    "from matplotlib import animation, rc\n",
    "animation.rcParams['animation.writer'] = 'ffmpeg'\n",
    "plt.rcParams['animation.ffmpeg_path'] = '/usr/bin/ffmpeg'\n",
    "\n",
    "import scipy\n",
    "import scipy as sp\n",
    "from scipy.spatial import ConvexHull\n",
    "from scipy.ndimage.morphology import binary_fill_holes\n",
    "\n",
    "from collections import OrderedDict\n",
    "import time\n",
    "from tensorboardX import SummaryWriter\n",
    "\n",
    "from skimage import io, transform\n",
    "from PIL import Image\n",
    "from torch.utils.data import Dataset, DataLoader\n",
    "import torchvision\n",
    "\n",
    "from IPython.display import display, clear_output, HTML, Image\n",
    "\n",
    "from PIL import Image\n",
    "import imp\n",
    "import os\n",
    "import sys\n",
    "import math\n",
    "import time\n",
    "import random\n",
    "import shutil\n",
    "import scipy.misc\n",
    "from glob import glob\n",
    "import sklearn\n",
    "import logging\n",
    "from tqdm import tqdm_notebook\n",
    "\n",
    "%matplotlib inline\n",
    "%load_ext autoreload\n",
    "%autoreload 2"
   ]
  },
  {
   "cell_type": "code",
   "execution_count": 2,
   "metadata": {
    "ExecuteTime": {
     "end_time": "2019-07-23T15:22:12.162608Z",
     "start_time": "2019-07-23T15:22:11.709073Z"
    }
   },
   "outputs": [],
   "source": [
    "import training\n",
    "import models\n",
    "import utils\n",
    "import utils.cmr_ml_utils_plotting"
   ]
  },
  {
   "cell_type": "code",
   "execution_count": 3,
   "metadata": {},
   "outputs": [],
   "source": [
    "def show(img):\n",
    "    npimg = img.numpy()\n",
    "    print(npimg.shape)\n",
    "    plt.imshow(np.transpose(npimg, (1,2,0)), interpolation='nearest')"
   ]
  },
  {
   "cell_type": "markdown",
   "metadata": {},
   "source": [
    "## Load image data"
   ]
  },
  {
   "cell_type": "code",
   "execution_count": 4,
   "metadata": {},
   "outputs": [],
   "source": [
    "img_dir = './data'"
   ]
  },
  {
   "cell_type": "code",
   "execution_count": 7,
   "metadata": {
    "ExecuteTime": {
     "end_time": "2019-06-25T19:00:38.010871Z",
     "start_time": "2019-06-25T19:00:37.753430Z"
    }
   },
   "outputs": [],
   "source": [
    "import scipy.io\n",
    "\n",
    "class PerfAIFDataset(Dataset):\n",
    "    \"\"\"Perfusion AIF dataset.\"\"\"\n",
    "\n",
    "    def __init__(self, img_dir, which_mask='LV_RV', min_reps=64, W=48, transform=None):\n",
    "        \"\"\"\n",
    "        Args:\n",
    "            img_dir (string): Directory with all the images.\n",
    "            transform (callable, optional): Optional transform to be applied on a sample.\n",
    "            which_mask: LV or LV_RV\n",
    "        \"\"\"\n",
    "        self.img_dir = img_dir\n",
    "        self.transform = transform\n",
    "        self.which_mask = which_mask\n",
    "        self.min_reps = min_reps\n",
    "        self.W = W\n",
    "        \n",
    "        # find all images\n",
    "        locations = os.listdir(self.img_dir)\n",
    "        a = []\n",
    "        for loc in locations:\n",
    "            if(os.path.isdir(os.path.join(self.img_dir, loc))):\n",
    "                a.extend(os.listdir(os.path.join(self.img_dir, loc)))\n",
    "\n",
    "        num_samples = len(a)\n",
    "        print(\"Found %d cases ... \" % num_samples)\n",
    "        \n",
    "        self.initialize_storage()\n",
    "\n",
    "        t0 = time.time()\n",
    "        print(\"Start loading cases ... \")\n",
    "        \n",
    "        total_num_loaded = 0\n",
    "        \n",
    "        for loc in locations:\n",
    "            if(os.path.isdir(os.path.join(self.img_dir, loc))):\n",
    "                total_num_loaded = self.load_one_loc(loc, total_num_loaded, t0)                                          \n",
    "        \n",
    "        print(\"Total samples loaded %d \" % total_num_loaded)\n",
    "        \n",
    "    def initialize_storage(self):\n",
    "        self.aif = []\n",
    "        self.lv_rv_masks = []\n",
    "        self.lv_masks = []\n",
    "        self.names = []\n",
    "    \n",
    "    def load_one_data(self, loc, f_prefix):\n",
    "        \n",
    "        f_name = f_prefix + '.npy'\n",
    "        data = np.load(os.path.join(self.img_dir, loc, f_name))                    \n",
    "                       \n",
    "        # print ('Loaded ', f_name, data.shape)\n",
    "        \n",
    "        return data\n",
    "    \n",
    "    def load_one_loc(self, loc, total_num_loaded, t0):      \n",
    "        \n",
    "        t1 = time.time()\n",
    "        \n",
    "        a = os.listdir(os.path.join(self.img_dir, loc))\n",
    "        num_samples = len(a)\n",
    "        \n",
    "        print('---> Start loading ', loc)\n",
    "        tq = tqdm_notebook(total=(num_samples), file=sys.stdout)\n",
    "        \n",
    "        for ii, n in enumerate(a):      \n",
    "            \n",
    "            '''\n",
    "            if (ii>30):\n",
    "                break\n",
    "            '''\n",
    "            \n",
    "            name = os.path.join(loc, n)\n",
    "            #print('------> Start loading %d out of %d, %s' % (ii, num_samples, name))\n",
    "\n",
    "            tq.set_description('loading {}, total {}'.format(ii, num_samples))\n",
    "            \n",
    "            try:\n",
    "                Gd = self.load_one_data(name, 'aif_scc')\n",
    "                try:\n",
    "                    lv_rv = self.load_one_data(name, 'aif_masks_final')                    \n",
    "                except:\n",
    "                    lv_rv = self.load_one_data(name, 'aif_masks')\n",
    "            except:\n",
    "                print('------> Failed to load %d out of %d, %s' % (ii, num_samples, n))\n",
    "                continue\n",
    "\n",
    "            RO, E1, N = Gd.shape\n",
    "                \n",
    "            if(N<self.min_reps):\n",
    "                new_Gd = np.zeros((RO, E1, self.min_reps))\n",
    "                new_Gd[:,:,0:N] = Gd\n",
    "                f = Gd[:,:,N-1]\n",
    "                new_Gd[:,:,N:self.min_reps] = np.dstack([f]*(self.min_reps-N))\n",
    "                Gd = new_Gd\n",
    "            \n",
    "            if(N>self.min_reps):\n",
    "                Gd = Gd[:,:,0:self.min_reps]\n",
    "            \n",
    "            if(E1>self.W):\n",
    "                s = int((E1-self.W)/2)\n",
    "                Gd = Gd[:,s:s+self.W,:]\n",
    "                lv_rv = lv_rv[:,s:s+self.W]\n",
    "                \n",
    "            if(E1<self.W):\n",
    "                s = int((self.W-E1)/2)\n",
    "                new_Gd = np.zeros((RO, self.W, self.min_reps))\n",
    "                new_Gd[:,s:s+E1,:] = Gd                \n",
    "                Gd = new_Gd\n",
    "                                \n",
    "                new_lv_rv = np.zeros((RO, self.W))\n",
    "                new_lv_rv[:,s:s+E1] = lv_rv\n",
    "                lv_rv = new_lv_rv                \n",
    "            \n",
    "            RO, E1, N = Gd.shape\n",
    "            if(RO!=64 or E1!=48 or N!=64):\n",
    "                print('--> incorrect Gd shape : ', name)\n",
    "                continue\n",
    "            \n",
    "            Gd = Gd / np.max(Gd)\n",
    "            Gd = np.transpose(Gd, (2, 0, 1))\n",
    "                \n",
    "            lv = np.zeros_like(lv_rv)\n",
    "            lv[np.where(lv_rv==1)] = 1\n",
    "                \n",
    "            lv_rv = np.reshape(lv_rv, (1, lv_rv.shape[0], lv_rv.shape[1]))\n",
    "            lv = np.reshape(lv, (1, lv.shape[0], lv.shape[1]))\n",
    "        \n",
    "            self.aif.append(Gd.astype(np.float32))\n",
    "            self.lv_rv_masks.append(lv_rv.astype(np.float32))\n",
    "            self.lv_masks.append(lv.astype(np.float32))\n",
    "\n",
    "            #print('     aif data : ', Gd.shape)\n",
    "            #print('     lv_rv mask : ', lv_rv.shape)\n",
    "            \n",
    "            self.names.append(name)\n",
    "                \n",
    "            total_num_loaded += 1\n",
    "                \n",
    "            t1 = time.time()\n",
    "            \n",
    "            tq.update(1)\n",
    "            tq.set_postfix(loss='{:.2f}s'.format(t1-t0))\n",
    "                \n",
    "            #print(\"             Time from starting : %f seconds ... \\n\" % (t1-t0))\n",
    "           \n",
    "        str_after_loading = '    Finish loading %s --- Total %d samples -- In %.2f seconds' % (loc, num_samples, t1-t0)\n",
    "        tq.set_postfix_str(str_after_loading)\n",
    "        \n",
    "        tq.close() \n",
    "            \n",
    "        return total_num_loaded\n",
    "    \n",
    "    def __len__(self):\n",
    "        return len(self.aif)\n",
    "\n",
    "    def __getitem__(self, idx):\n",
    "        \n",
    "        if idx >= len(self.aif):\n",
    "            raise \"invalid index\"\n",
    "        \n",
    "        if (self.which_mask == 'lv_rv'):            \n",
    "            sample = (self.aif[idx], self.lv_rv_masks[idx], self.names[idx])\n",
    "            \n",
    "        if (self.which_mask == 'lv'):            \n",
    "            sample = (self.aif[idx], self.lv_masks[idx], self.names[idx])\n",
    "            \n",
    "        if self.transform:\n",
    "            sample = self.transform(sample)\n",
    "\n",
    "        return sample    \n",
    "    \n",
    "    def __str__(self):\n",
    "        str = \"Perfusion AIF Dataset\\n\"\n",
    "        str += \"  image root: %s\" % self.img_dir + \"\\n\"\n",
    "        str += \"  Number of samples: %d\" % len(self.aif) + \"\\n\"\n",
    "        str += \"  Number of masks: %d\" % len(self.lv_rv_masks) + \"\\n\"\n",
    "        if len(self.aif) > 0:\n",
    "            str += \"  image shape: %d %d %d\" % self.aif[0].shape + \"\\n\"\n",
    "            str += \"  myo mask shape: %d %d %d\" % self.lv_rv_masks[0].shape + \"\\n\"\n",
    "        return str"
   ]
  },
  {
   "cell_type": "code",
   "execution_count": 13,
   "metadata": {
    "ExecuteTime": {
     "end_time": "2019-06-25T19:00:38.394931Z",
     "start_time": "2019-06-25T19:00:38.383944Z"
    },
    "scrolled": true
   },
   "outputs": [
    {
     "name": "stdout",
     "output_type": "stream",
     "text": [
      "Found 3 cases ... \n",
      "Start loading cases ... \n",
      "---> Start loading  aif\n"
     ]
    },
    {
     "data": {
      "application/vnd.jupyter.widget-view+json": {
       "model_id": "1a8029662a3f48a1b98537e1f1cd288e",
       "version_major": 2,
       "version_minor": 0
      },
      "text/plain": [
       "HBox(children=(IntProgress(value=0, max=3), HTML(value='')))"
      ]
     },
     "metadata": {},
     "output_type": "display_data"
    },
    {
     "name": "stdout",
     "output_type": "stream",
     "text": [
      "\n",
      "Total samples loaded 3 \n",
      "Done\n"
     ]
    }
   ],
   "source": [
    "perf_aif_dataset = PerfAIFDataset(img_dir)\n",
    "print(\"Done\")"
   ]
  },
  {
   "cell_type": "code",
   "execution_count": 14,
   "metadata": {},
   "outputs": [
    {
     "name": "stdout",
     "output_type": "stream",
     "text": [
      "Perfusion AIF Dataset\n",
      "  image root: ./data\n",
      "  Number of samples: 3\n",
      "  Number of masks: 3\n",
      "  image shape: 64 64 48\n",
      "  myo mask shape: 1 64 48\n",
      "\n"
     ]
    }
   ],
   "source": [
    "print(perf_aif_dataset)"
   ]
  },
  {
   "cell_type": "code",
   "execution_count": 15,
   "metadata": {},
   "outputs": [],
   "source": [
    "perf_aif_dataset.which_mask = 'lv_rv'\n",
    "\n",
    "\n",
    "B = len(perf_aif_dataset)\n",
    "\n",
    "for n in range(B):\n",
    "    Gd, masks, names = perf_aif_dataset[n]\n",
    "    N, RO, E1 = Gd.shape\n",
    "    if(RO!=64 or E1!=48 or N!=64):\n",
    "        print('--> incorrect Gd shape : ', (n, names, Gd.shape))\n",
    "    _, RO, E1 = masks.shape\n",
    "    if(RO!=64 or E1!=48):\n",
    "        print('--> incorrect masks shape : ', (n, names, masks.shape))"
   ]
  },
  {
   "cell_type": "markdown",
   "metadata": {},
   "source": [
    "## Check to see if data loaded properly"
   ]
  },
  {
   "cell_type": "code",
   "execution_count": 16,
   "metadata": {},
   "outputs": [
    {
     "name": "stdout",
     "output_type": "stream",
     "text": [
      "3\n"
     ]
    },
    {
     "data": {
      "text/plain": [
       "[<matplotlib.lines.Line2D at 0x2642de715f8>]"
      ]
     },
     "execution_count": 16,
     "metadata": {},
     "output_type": "execute_result"
    },
    {
     "data": {
      "image/png": "[encoded data removed]",
      "text/plain": [
       "<Figure size 576x576 with 1 Axes>"
      ]
     },
     "metadata": {
      "needs_background": "light"
     },
     "output_type": "display_data"
    }
   ],
   "source": [
    "B = len(perf_aif_dataset)\n",
    "print(B)\n",
    "ni = np.zeros(B)\n",
    "nm = np.zeros(B)\n",
    "\n",
    "for n in np.arange(B):\n",
    "    images, masks, names = perf_aif_dataset[n]\n",
    "    ni[n] = np.linalg.norm(images)\n",
    "    nm[n] = np.linalg.norm(masks)\n",
    "\n",
    "    if(ni[n] < 1):\n",
    "        print(names, ni[n])\n",
    "    \n",
    "plt.figure(figsize=(8,8))    \n",
    "plt.plot(ni, nm, 'bo')"
   ]
  },
  {
   "cell_type": "code",
   "execution_count": 22,
   "metadata": {},
   "outputs": [
    {
     "name": "stdout",
     "output_type": "stream",
     "text": [
      "Perfusion AIF Dataset\n",
      "  image root: ./data\n",
      "  Number of samples: 3\n",
      "  Number of masks: 3\n",
      "  image shape: 64 64 48\n",
      "  myo mask shape: 1 64 48\n",
      "\n"
     ]
    }
   ],
   "source": [
    "print(perf_aif_dataset)\n",
    "NUM_TRAIN = len(perf_aif_dataset)-1\n",
    "\n",
    "batch_size = 2\n",
    "\n",
    "loader_for_train = DataLoader(perf_aif_dataset, batch_size=batch_size, \n",
    "                          sampler=sampler.SubsetRandomSampler(range(NUM_TRAIN)))\n",
    "\n",
    "loader_for_val = DataLoader(perf_aif_dataset, batch_size=batch_size, \n",
    "                        sampler=sampler.SubsetRandomSampler(range(NUM_TRAIN, len(perf_aif_dataset))))"
   ]
  },
  {
   "cell_type": "code",
   "execution_count": 23,
   "metadata": {
    "scrolled": false
   },
   "outputs": [
    {
     "name": "stdout",
     "output_type": "stream",
     "text": [
      "<torch.utils.data.dataloader._SingleProcessDataLoaderIter object at 0x000002642E85A390>\n",
      "torch.Size([2, 64, 64, 48])\n",
      "torch.Size([2, 1, 64, 48])\n",
      "torch.Size([64, 48, 64, 2])\n"
     ]
    },
    {
     "data": {
      "image/png": "[encoded data removed]",
      "text/plain": [
       "<Figure size 2304x576 with 16 Axes>"
      ]
     },
     "metadata": {
      "needs_background": "light"
     },
     "output_type": "display_data"
    },
    {
     "data": {
      "image/png": "[encoded data removed]",
      "text/plain": [
       "<Figure size 2304x576 with 16 Axes>"
      ]
     },
     "metadata": {
      "needs_background": "light"
     },
     "output_type": "display_data"
    },
    {
     "data": {
      "image/png": "[encoded data removed]",
      "text/plain": [
       "<Figure size 1152x1152 with 2 Axes>"
      ]
     },
     "metadata": {
      "needs_background": "light"
     },
     "output_type": "display_data"
    }
   ],
   "source": [
    "iter_train = iter(loader_for_train)\n",
    "print(iter_train)\n",
    "images, masks, names = iter_train.next()\n",
    "\n",
    "print(images.shape)\n",
    "print(masks.shape)\n",
    "\n",
    "ia = np.transpose(images, (2, 3, 1, 0))\n",
    "print(ia.shape)\n",
    "\n",
    "for n in range(masks.shape[0]):\n",
    "    a = utils.cmr_ml_utils_plotting.plot_image_array(np.transpose(np.squeeze(images[n, 0:-1:4,:,:]), (1, 2, 0)), columns=16, figsize=[32,8])\n",
    "    \n",
    "a = utils.cmr_ml_utils_plotting.plot_image_array(np.transpose(np.squeeze(masks), (1, 2, 0)), columns=1, figsize=[16,16])"
   ]
  },
  {
   "cell_type": "markdown",
   "metadata": {},
   "source": [
    "## Construct data loaders"
   ]
  },
  {
   "cell_type": "code",
   "execution_count": 24,
   "metadata": {},
   "outputs": [
    {
     "name": "stdout",
     "output_type": "stream",
     "text": [
      "using device: cuda\n",
      "Let's use 2 GPUs!\n"
     ]
    }
   ],
   "source": [
    "USE_GPU = True\n",
    "\n",
    "if USE_GPU and torch.cuda.is_available():\n",
    "    device = torch.device('cuda')\n",
    "else:\n",
    "    device = torch.device('cpu')\n",
    "\n",
    "print('using device:', device)\n",
    "\n",
    "if torch.cuda.device_count() > 1:\n",
    "  print(\"Let's use\", torch.cuda.device_count(), \"GPUs!\")"
   ]
  },
  {
   "cell_type": "markdown",
   "metadata": {},
   "source": [
    "## Data augmentation"
   ]
  },
  {
   "cell_type": "code",
   "execution_count": 25,
   "metadata": {},
   "outputs": [],
   "source": [
    "class RandomFlip1stDim(object):\n",
    "    \"\"\"Randomly flip the first dimension of numpy array.\n",
    "    Args:\n",
    "        p (float): probability of the image being flipped. Default value is 0.5\n",
    "    \"\"\"\n",
    "\n",
    "    def __init__(self, p=0.5):\n",
    "        self.p = p\n",
    "\n",
    "    def __call__(self, img):\n",
    "        \"\"\"\n",
    "        Args:\n",
    "            img ([N RO E1 ... ]): Image to be flipped.\n",
    "        Returns:\n",
    "            res: Randomly flipped image.\n",
    "        \"\"\"\n",
    "        #print(img[0].shape)\n",
    "        #print(img[1].shape)\n",
    "            \n",
    "        if random.random() < self.p: \n",
    "                                \n",
    "            a = np.transpose(img[0], [1, 2, 0])\n",
    "            a = np.flipud(a)\n",
    "            a = np.transpose(a, [2, 0, 1])\n",
    "            \n",
    "            b = np.transpose(img[1], [1, 2, 0])\n",
    "            b = np.flipud(b)\n",
    "            b = np.transpose(b, [2, 0, 1])\n",
    "            return ( a.copy(), b.copy(), img[2] )\n",
    "        return img\n",
    "\n",
    "    def __repr__(self):\n",
    "        return self.__class__.__name__ + '(p={})'.format(self.p)\n",
    "    \n",
    "class RandomFlip2ndDim(object):\n",
    "    \"\"\"Randomly flip the second dimension of numpy array.\n",
    "    Args:\n",
    "        p (float): probability of the image being flipped. Default value is 0.5\n",
    "    \"\"\"\n",
    "\n",
    "    def __init__(self, p=0.5):\n",
    "        self.p = p\n",
    "\n",
    "    def __call__(self, img):\n",
    "        \"\"\"\n",
    "        Args:\n",
    "            img ([N RO E1 ... ]): Image to be flipped.\n",
    "        Returns:\n",
    "            res: Randomly flipped image.\n",
    "        \"\"\"\n",
    "        if random.random() < self.p:    \n",
    "            a = np.transpose(img[0], [1, 2, 0])\n",
    "            a = np.fliplr(a)\n",
    "            a = np.transpose(a, [2, 0, 1])\n",
    "            \n",
    "            b = np.transpose(img[1], [1, 2, 0])\n",
    "            b = np.fliplr(b)\n",
    "            b = np.transpose(b, [2, 0, 1])\n",
    "            return ( a.copy(), b.copy(), img[2] )\n",
    "        return img\n",
    "\n",
    "    def __repr__(self):\n",
    "        return self.__class__.__name__ + '(p={})'.format(self.p)"
   ]
  },
  {
   "cell_type": "code",
   "execution_count": 26,
   "metadata": {},
   "outputs": [],
   "source": [
    "import sys\n",
    "import torch\n",
    "import torch.nn as nn\n",
    "import torch.optim as optim\n",
    "import torch.nn.functional as F\n",
    "import numpy as np\n",
    "import scipy\n",
    "from scipy import ndimage\n",
    "\n",
    "# probs should be a 64x48 torch tensor\n",
    "def adaptive_thresh_cpu(probs, p_thresh=0.5, p_thresh_max=0.988):\n",
    "    # Try regular adaptive thresholding first\n",
    "    #p_thresh_max  = 0.988 # <-- Should not be too close to 1 to ensure while loop does not go over.\n",
    "\n",
    "    p_thresh_incr = 0.01\n",
    "    #p_thresh = 0.5\n",
    "\n",
    "    RO = probs.shape[0]\n",
    "    E1 = probs.shape[1]\n",
    "\n",
    "    try:\n",
    "        number_of_blobs = float(\"inf\")\n",
    "        blobs = np.zeros((RO,E1))\n",
    "        while number_of_blobs > 1 and p_thresh < p_thresh_max:\n",
    "            mask = (probs > torch.max(probs) * p_thresh).float()\n",
    "            blobs, number_of_blobs = ndimage.label(mask)\n",
    "            p_thresh += p_thresh_incr  # <-- Note this line can lead to float drift.\n",
    "    \n",
    "        if(number_of_blobs == 1):\n",
    "            return mask\n",
    "\n",
    "        if(number_of_blobs == 0):\n",
    "            mask = np.zeros((RO, E1))\n",
    "            print(\"adaptive_thresh_cpu, did not find any blobs ... \", file=sys.stderr)\n",
    "            sys.stderr.flush()\n",
    "            return mask\n",
    "\n",
    "        ## If we are here then we cannot isolate a singular blob as the LV.\n",
    "        ## Select the largest blob as the final mask.\n",
    "        biggest_blob = (0, torch.zeros(RO,E1))\n",
    "        for i in range(number_of_blobs):\n",
    "            one_blob = torch.tensor((blobs == i+1).astype(int), dtype=torch.uint8)\n",
    "            area = torch.sum(one_blob)\n",
    "            if(area > biggest_blob[0]):\n",
    "                biggest_blob = (area, one_blob)\n",
    "\n",
    "        return biggest_blob[1]\n",
    "\n",
    "    except Exception as e:\n",
    "        print(\"Error happened in adaptive_thresh_cpu ...\")\n",
    "        print(e)\n",
    "        sys.stderr.flush()\n",
    "        mask = np.zeros((RO,E1))\n",
    "\n",
    "    return mask"
   ]
  },
  {
   "cell_type": "code",
   "execution_count": 27,
   "metadata": {},
   "outputs": [],
   "source": [
    "def compute_dice_scores(best_model, loader, aif_trainer, binary_seg=False):\n",
    "    # get dice for all LV in validation set\n",
    "    dice_scores = []\n",
    "    cases = []\n",
    "    best_model = best_model.cuda() \n",
    "\n",
    "    ind = 0\n",
    "\n",
    "    best_model.eval()  # set model to evaluation mode\n",
    "           \n",
    "    for t, (x, y, names) in enumerate(loader):        \n",
    "\n",
    "        x = x.to(aif_trainer.x_dtype).cuda() \n",
    "        y = y.to(aif_trainer.y_dtype).cuda()\n",
    "       \n",
    "        with torch.no_grad():\n",
    "            scores = best_model(x)\n",
    "\n",
    "        # loss = aif_trainer.compute_loss(scores, y)\n",
    "\n",
    "        if(binary_seg):\n",
    "            probs = F.sigmoid(scores)\n",
    "        else:\n",
    "            m = torch.nn.Softmax(dim=1)\n",
    "            probs = m(scores)\n",
    "\n",
    "        probs = probs.cpu().detach()\n",
    "\n",
    "        N = x.shape[0]\n",
    "        \n",
    "        aif_mask = y.cpu().detach().numpy()        \n",
    "            \n",
    "        for n in range(N):\n",
    "            \n",
    "            if(binary_seg):\n",
    "                lv_probs = probs[n, 0, :, :]\n",
    "            else:\n",
    "                lv_probs = probs[n, 1, :, :]\n",
    "            # lv_mask = training.adaptive_thresh(lv_probs, device=torch.device('cpu'), p_thresh=0.5)\n",
    "            #lv_mask = lv_mask.cpu().detach().numpy()\n",
    "            \n",
    "            #lv_probs = lv_probs.cpu().detach().numpy()\n",
    "            #lv_probs = np.squeeze(lv_probs)\n",
    "            \n",
    "            lv_probs = lv_probs.cpu().detach()\n",
    "            lv_mask = adaptive_thresh_cpu(lv_probs, p_thresh=0.5)\n",
    "                        \n",
    "            lv_mask = lv_mask.detach().numpy()\n",
    "            lv_aif_mask = np.zeros(lv_mask.shape)\n",
    "            lv_aif_mask[np.where(np.squeeze(aif_mask[n, 0, :,:]==1))] = 1\n",
    "\n",
    "            ds = training.dice(lv_aif_mask, lv_mask)\n",
    "\n",
    "            if(ds<0.1):\n",
    "                print(names[n])\n",
    "                curr_probs = probs[n, :, :, :].numpy()\n",
    "                curr_probs = np.transpose(curr_probs, (2, 1, 0))\n",
    "                a = utils.cmr_ml_utils_plotting.plot_image_array(np.squeeze(curr_probs), columns=8, figsize=[16,16])\n",
    "                a = utils.cmr_ml_utils_plotting.plot_image_array(lv_aif_mask, columns=8, figsize=[16,16])\n",
    "                a = utils.cmr_ml_utils_plotting.plot_image_array(lv_mask, columns=8, figsize=[16,16])\n",
    "    \n",
    "            dice_scores.append(ds)\n",
    "            cases.append(names[n])\n",
    "    \n",
    "    return dice_scores, cases"
   ]
  },
  {
   "cell_type": "code",
   "execution_count": 28,
   "metadata": {},
   "outputs": [],
   "source": [
    "def get_failed_cases(dice_scores, cases, thres=0.5, print_failed=True):\n",
    "    total_samples = len(dice_scores)\n",
    "    sucess_samples = 0\n",
    "    failed_cases = []\n",
    "    failed_dices = []\n",
    "    for k in range(total_samples):\n",
    "        if(dice_scores[k]>=thres):\n",
    "            sucess_samples = sucess_samples + 1\n",
    "        else:\n",
    "            if(print_failed):\n",
    "                print(\"case %s, dice %f \" % (cases[k], dice_scores[k]))\n",
    "                \n",
    "            failed_cases.append(cases[k])\n",
    "            failed_dices.append(dice_scores[k])\n",
    "\n",
    "    success_rate = sucess_samples/total_samples\n",
    "    print(\"Total test samples is \", total_samples)  \n",
    "    print(\"Success rate is \", success_rate)  \n",
    "    \n",
    "    return failed_cases, failed_dices, success_rate"
   ]
  },
  {
   "cell_type": "code",
   "execution_count": 29,
   "metadata": {},
   "outputs": [],
   "source": [
    "def load_apply_model_multi_class(img_dir, case_name, model, device):\n",
    "    \n",
    "    data_dir = os.path.join(img_dir, case_name)\n",
    "\n",
    "    model_device = device\n",
    "    \n",
    "    print(data_dir)\n",
    "\n",
    "    Gd = np.load(os.path.join(data_dir, 'aif.npy'))\n",
    "    RO, E1, N = Gd.shape\n",
    "\n",
    "    try:\n",
    "        aif_mask = np.load(os.path.join(data_dir, 'aif_masks_final.npy'))\n",
    "    except:\n",
    "        aif_mask = np.load(os.path.join(data_dir, 'aif_masks.npy'))\n",
    "\n",
    "    Gd = Gd[:,:,0:64]\n",
    "    s = int((E1-48)/2)\n",
    "    Gd = Gd[:,s:s+48,:]\n",
    "\n",
    "    Gd = np.transpose(Gd, (2, 0, 1))\n",
    "    Gd = np.reshape(Gd, (1, Gd.shape[0], Gd.shape[1], Gd.shape[2]))\n",
    "    Gd /= np.max(Gd)\n",
    "\n",
    "    aif = torch.from_numpy(Gd).float()\n",
    "    aif = aif.to(device=model_device)\n",
    "    model.eval() \n",
    "    with torch.no_grad():\n",
    "        scores = model(aif)\n",
    "\n",
    "    m = torch.nn.Softmax(dim=1)\n",
    "    probs = m(scores)\n",
    "\n",
    "    probs = probs.cpu().detach()\n",
    "    \n",
    "    lv_probs = probs[0, 1, :, :]\n",
    "    lv_mask = training.adaptive_thresh(lv_probs, device=torch.device('cpu'), p_thresh=0.5)\n",
    "    \n",
    "    lv_mask = lv_mask.cpu().detach().numpy()\n",
    "    probs = probs.cpu().detach().numpy()\n",
    "    probs = np.squeeze(np.transpose(probs, (2, 3, 1, 0)))\n",
    "    \n",
    "    a = utils.cmr_ml_utils_plotting.plot_image_array(probs, columns=8, figsize=[16,16])\n",
    "    a = utils.cmr_ml_utils_plotting.plot_image_array(aif_mask, columns=8, figsize=[16,16])\n",
    "    a = utils.cmr_ml_utils_plotting.plot_image_array(lv_mask, columns=8, figsize=[16,16])\n",
    "    \n",
    "    return probs, lv_mask, aif_mask"
   ]
  },
  {
   "cell_type": "markdown",
   "metadata": {},
   "source": [
    "## Train with multi-class trainer"
   ]
  },
  {
   "cell_type": "code",
   "execution_count": 30,
   "metadata": {},
   "outputs": [],
   "source": [
    "# data augmenation for random flipping\n",
    "transform = torchvision.transforms.Compose([RandomFlip1stDim(0.5), RandomFlip2ndDim(0.5)])"
   ]
  },
  {
   "cell_type": "code",
   "execution_count": 31,
   "metadata": {},
   "outputs": [],
   "source": [
    "perf_aif_dataset.transform = transform"
   ]
  },
  {
   "cell_type": "code",
   "execution_count": 32,
   "metadata": {},
   "outputs": [],
   "source": [
    "perf_aif_dataset.which_mask = 'lv_rv'\n",
    "num_classes = 3\n",
    "class_for_accu = [1, 2]\n",
    "class_weights = np.ones(num_classes)\n",
    "class_weights[1] = 5\n",
    "p_thres = [0.5, 0.5, 0.75]"
   ]
  },
  {
   "cell_type": "code",
   "execution_count": 33,
   "metadata": {},
   "outputs": [
    {
     "name": "stdout",
     "output_type": "stream",
     "text": [
      "lv_rv\n",
      "(1, 64, 48)\n"
     ]
    },
    {
     "data": {
      "text/plain": [
       "<matplotlib.image.AxesImage at 0x2642e232588>"
      ]
     },
     "execution_count": 33,
     "metadata": {},
     "output_type": "execute_result"
    },
    {
     "data": {
      "image/png": "[encoded data removed]",
      "text/plain": [
       "<Figure size 432x288 with 1 Axes>"
      ]
     },
     "metadata": {
      "needs_background": "light"
     },
     "output_type": "display_data"
    }
   ],
   "source": [
    "print(perf_aif_dataset.which_mask)\n",
    "\n",
    "sample = perf_aif_dataset[1]\n",
    "\n",
    "print(sample[1].shape)\n",
    "\n",
    "plt.figure()\n",
    "plt.imshow(np.squeeze(sample[1]))"
   ]
  },
  {
   "cell_type": "code",
   "execution_count": 28,
   "metadata": {},
   "outputs": [
    {
     "name": "stdout",
     "output_type": "stream",
     "text": [
      "torch.Size([4, 64, 64, 48])\n",
      "torch.Size([4, 1, 64, 48])\n",
      "tensor(1.)\n",
      "tensor(2.)\n",
      "(3, 68, 202)\n",
      "(3, 68, 202)\n",
      "torch.Size([4, 64, 64, 48])\n",
      "torch.Size([4, 1, 64, 48])\n"
     ]
    },
    {
     "data": {
      "image/png": "[encoded data removed]",
      "text/plain": [
       "<Figure size 576x576 with 1 Axes>"
      ]
     },
     "metadata": {
      "needs_background": "light"
     },
     "output_type": "display_data"
    },
    {
     "data": {
      "image/png": "[encoded data removed]",
      "text/plain": [
       "<Figure size 576x576 with 1 Axes>"
      ]
     },
     "metadata": {
      "needs_background": "light"
     },
     "output_type": "display_data"
    }
   ],
   "source": [
    "images, masks, names = iter_train.next()\n",
    "\n",
    "B, C, RO, E1 = images.shape\n",
    "\n",
    "print(images.shape)\n",
    "print(masks.shape)\n",
    "print(torch.max(images))\n",
    "print(torch.max(masks))\n",
    "\n",
    "a = images[:,32,:,:]\n",
    "a = torch.reshape(a, (B, 1, RO, E1))\n",
    "\n",
    "plt.figure(figsize=(8, 8))\n",
    "show(make_grid(a.double(), nrow=8, padding=2, normalize=False, scale_each=True))\n",
    "\n",
    "plt.figure(figsize=(8, 8))\n",
    "show(make_grid(masks.double(), nrow=8, padding=2, normalize=True, scale_each=False))\n",
    "\n",
    "X = images.type(torch.FloatTensor)\n",
    "y = masks.type(torch.FloatTensor)\n",
    "print(X.shape)\n",
    "print(y.shape)"
   ]
  },
  {
   "cell_type": "code",
   "execution_count": null,
   "metadata": {},
   "outputs": [],
   "source": [
    "def perform_training(hyperpara, perf_aif_dataset, loader_for_train, loader_for_val):\n",
    "    \n",
    "    num_epochs = hyperpara['num_epochs']\n",
    "    print_every = 100000\n",
    "\n",
    "    inplanes = hyperpara['inplanes']\n",
    "    layers = hyperpara['layers']\n",
    "    layers_planes = hyperpara['layers_planes']\n",
    "    \n",
    "    class_weights = hyperpara['class_weights']\n",
    "    jaccard_weight = hyperpara['jaccard_weight']\n",
    "    \n",
    "    print('======================================================')\n",
    "    print('num_epochs ', num_epochs)\n",
    "    print('inplanes ', inplanes)\n",
    "    print('layers ', layers)\n",
    "    print('layers_planes ', layers_planes)\n",
    "    print('class_weights ', class_weights)\n",
    "    print('jaccard_weight ', jaccard_weight)\n",
    "    print('======================================================')\n",
    "    \n",
    "    perf_aif_dataset.which_mask = 'lv_rv'\n",
    "    num_classes = 3\n",
    "    class_for_accu = [1, 2]\n",
    "    p_thres = [0.5, 0.5, 0.75]\n",
    "\n",
    "    print(perf_aif_dataset.aif[0].shape)\n",
    "    C, H, W = perf_aif_dataset.aif[0].shape\n",
    "\n",
    "    model = models.GadgetronResUnet18(F0=C, \n",
    "                              inplanes=inplanes, \n",
    "                              layers=layers, \n",
    "                              layers_planes=layers_planes, \n",
    "                              use_dropout=False, \n",
    "                              p=0.5, \n",
    "                              H=H, W=W, C=num_classes,\n",
    "                              verbose=True)\n",
    "\n",
    "    if torch.cuda.device_count() > 1:\n",
    "        model = nn.DataParallel(model)\n",
    "        print(\"model on multiple GPU ... \")\n",
    "\n",
    "    patience = 10\n",
    "    factor = 0.5\n",
    "    cooldown = 3\n",
    "    min_lr = 1e-7\n",
    "\n",
    "    weight_decay=0\n",
    "    learning_rate = 1e-3\n",
    "\n",
    "    optimizer = optim.Adam(model.parameters(), lr=learning_rate, betas=(0.9, 0.999), eps=1e-08, weight_decay=weight_decay, amsgrad=False)\n",
    "\n",
    "    # optimizer = optim.SGD(model.parameters(), lr=learning_rate, momentum=0.9, weight_decay=weight_decay, nesterov=True)\n",
    "\n",
    "    scheduler = torch.optim.lr_scheduler.ReduceLROnPlateau(optimizer, 'min', patience=patience, cooldown=cooldown, min_lr=min_lr, verbose=True)\n",
    "\n",
    "    CW = np.ones(num_classes)\n",
    "    CW[1] = class_weights\n",
    "    criterion = training.LossMulti(class_weights=CW, jaccard_weight=jaccard_weight)\n",
    "\n",
    "    log_dir = 'aif_training/ResUnet' + '_lr_' + str(learning_rate) + '_epochs_' + str(num_epochs)\n",
    "    writer = SummaryWriter(log_dir)\n",
    "    \n",
    "    aif_trainer = training.GadgetronMultiClassSeg_Perf(model, \n",
    "                                   optimizer, \n",
    "                                   criterion, \n",
    "                                   loader_for_train, \n",
    "                                   loader_for_val, \n",
    "                                   class_for_accu=class_for_accu,\n",
    "                                   p_thres = p_thres,\n",
    "                                   scheduler=scheduler, \n",
    "                                   epochs=num_epochs, \n",
    "                                   device=device, \n",
    "                                   x_dtype=torch.float32, \n",
    "                                   y_dtype=torch.long, \n",
    "                                   early_stopping_thres = 100,                              \n",
    "                                   print_every=print_every, \n",
    "                                   writer=writer, \n",
    "                                   model_folder=\"perf_training/\")\n",
    "    \n",
    "    \n",
    "    epochs_traning, epochs_validation, best_model, loss_all, epochs_acc_class = aif_trainer.train(verbose=True, epoch_to_load=-1, save_model_epoch=True)\n",
    "    \n",
    "    dice_scores, cases = compute_dice_scores(best_model, loader_for_val, aif_trainer)\n",
    "    failed_cases, failed_dices, success_rate = get_failed_cases(dice_scores, cases, thres=0.5, print_failed=False)   \n",
    "    scipy.io.savemat(os.path.join(img_dir, 'perf_aif_lv_rv_val_failed.mat'), {\"cases\":failed_cases, \"dices\":failed_dices, \"dice_scores\":dice_scores, \"cases\":cases})\n",
    "    \n",
    "    dice_scores_train, cases_train = compute_dice_scores(best_model, loader_for_train, aif_trainer)\n",
    "    failed_cases_train, failed_dices_train, success_rate_train = get_failed_cases(dice_scores_train, cases_train, thres=0.5, print_failed=False) \n",
    "\n",
    "    hyperpara['best_model'] = best_model\n",
    "    hyperpara['epochs_traning'] = epochs_traning\n",
    "    hyperpara['epochs_validation'] = epochs_validation\n",
    "    hyperpara['loss_all'] = loss_all\n",
    "    hyperpara['epochs_acc_class'] = epochs_acc_class\n",
    "    \n",
    "    hyperpara['dice_scores'] = dice_scores\n",
    "    hyperpara['cases'] = cases\n",
    "    hyperpara['failed_cases'] = failed_cases\n",
    "    hyperpara['failed_dices'] = failed_dices\n",
    "    hyperpara['success_rate'] = success_rate\n",
    "    \n",
    "    hyperpara['dice_scores_train'] = dice_scores\n",
    "    hyperpara['cases_train'] = cases\n",
    "    \n",
    "    return hyperpara"
   ]
  },
  {
   "cell_type": "code",
   "execution_count": null,
   "metadata": {},
   "outputs": [],
   "source": [
    "# hyper parameter search\n",
    "layers_planes = [[96, 128], [128, 128], [128, 256]]\n",
    "layers = [[2, 3], [3, 3], [3, 4], [4, 4], [4, 5]]\n",
    "inplanes = [64, 96, 128]\n",
    "\n",
    "best_success_rate = 0\n",
    "best_hyperpara = None\n",
    "\n",
    "hyperpara_all = []\n",
    "\n",
    "for a in range(len(layers_planes)):\n",
    "    for b in range(len(layers)):\n",
    "        for c in range(len(inplanes)):\n",
    "            \n",
    "            print('-----------------------------------------------')\n",
    "            print(a, b, c)\n",
    "            \n",
    "            hyperpara = dict()\n",
    "            \n",
    "            hyperpara['num_epochs'] = 40\n",
    "            hyperpara['inplanes'] = inplanes[c]\n",
    "            hyperpara['layers'] = layers[b]\n",
    "            hyperpara['layers_planes'] = layers_planes[a]\n",
    "    \n",
    "            hyperpara['class_weights'] = 5.0\n",
    "            hyperpara['jaccard_weight'] = 0.5\n",
    "            \n",
    "            k = 12\n",
    "            batch_size = 256\n",
    "\n",
    "            # Chunk into k random sets\n",
    "            chunks = chunk(range(len(perf_aif_dataset)), k)\n",
    "            listified_chunks = list(chunks)\n",
    "\n",
    "            val_idxs = listified_chunks[0]\n",
    "            train_idxs = listified_chunks[1:]\n",
    "            train_idxs = [item for sublist in train_idxs for item in sublist]\n",
    "\n",
    "            num_train = len(train_idxs)\n",
    "            num_val = len(val_idxs)\n",
    "\n",
    "            loader_for_train = DataLoader(perf_aif_dataset, batch_size=batch_size, \n",
    "                                      sampler=sampler.SubsetRandomSampler(train_idxs))\n",
    "\n",
    "            loader_for_val = DataLoader(perf_aif_dataset, batch_size=batch_size, \n",
    "                                    sampler=sampler.SubsetRandomSampler(val_idxs))\n",
    "\n",
    "            num_train = len(train_idxs)\n",
    "            print('num_train = %d' % num_train)\n",
    "            num_val = len(val_idxs)\n",
    "            print('num_val = %d' % num_val)\n",
    "            \n",
    "            hyperpara = perform_training(hyperpara, perf_aif_dataset, loader_for_train, loader_for_val)\n",
    "            \n",
    "            # print(hyperpara)\n",
    "            print('success rate - ', hyperpara['success_rate'])\n",
    "            \n",
    "            if(hyperpara['success_rate']>best_success_rate):\n",
    "                best_success_rate = hyperpara['success_rate']\n",
    "                best_hyperpara = hyperpara\n",
    "                \n",
    "            hyperpara_all.append(hyperpara)"
   ]
  },
  {
   "cell_type": "code",
   "execution_count": 34,
   "metadata": {
    "scrolled": false
   },
   "outputs": [
    {
     "name": "stdout",
     "output_type": "stream",
     "text": [
      "(64, 64, 48)\n",
      "GadgetronResUnet : F0=64, inplanes=96\n",
      "------------------------------------------------------------\n",
      "    GadgetronResUnetInputBlock : input size (64, 64, 48), output size (96, 64, 48) --> (96, 64, 48)\n",
      "------------------------------------------------------------\n",
      "    GadgetronResUnet, down layer 0:\n",
      "        GadgetronResUnet, down layer (64, 48) -> (32, 24)\n",
      "        GadgetronResUnetBasicBlock : input size (96, 32, 24), output size (128, 32, 24) --> (128, 32, 24)\n",
      "        GadgetronResUnetBasicBlock : input size (128, 32, 24), output size (128, 32, 24) --> (128, 32, 24)\n",
      "    GadgetronResUnet, down layer 1:\n",
      "        GadgetronResUnet, down layer (32, 24) -> (16, 12)\n",
      "        GadgetronResUnetBasicBlock : input size (128, 16, 12), output size (128, 16, 12) --> (128, 16, 12)\n",
      "        GadgetronResUnetBasicBlock : input size (128, 16, 12), output size (128, 16, 12) --> (128, 16, 12)\n",
      "        GadgetronResUnetBasicBlock : input size (128, 16, 12), output size (128, 16, 12) --> (128, 16, 12)\n",
      "------------------------------------------------------------\n",
      "    GadgetronResUnet, bridge layer (128, 16, 12) --> (128, 16, 12)\n",
      "        GadgetronResUnet, down layer (16, 12) -> (8, 6)\n",
      "        GadgetronResUnetBasicBlock : input size (128, 8, 6), output size (128, 8, 6) --> (128, 8, 6)\n",
      "        GadgetronResUnetBasicBlock : input size (128, 8, 6), output size (128, 8, 6) --> (128, 8, 6)\n",
      "        GadgetronResUnetBasicBlock : input size (128, 8, 6), output size (128, 8, 6) --> (128, 8, 6)\n",
      "------------------------------------------------------------\n",
      "    GadgetronResUnet, up layer 0:\n",
      "        GadgetronResUnet_UpSample : input size (256, 8, 6), upsampled size (256, 16, 12)\n",
      "        GadgetronResUnetBasicBlock : input size (256, 16, 12), output size (128, 16, 12) --> (128, 16, 12)\n",
      "        GadgetronResUnetBasicBlock : input size (128, 16, 12), output size (128, 16, 12) --> (128, 16, 12)\n",
      "        GadgetronResUnetBasicBlock : input size (128, 16, 12), output size (128, 16, 12) --> (128, 16, 12)\n",
      "    GadgetronResUnet, up layer 1:\n",
      "        GadgetronResUnet_UpSample : input size (256, 16, 12), upsampled size (256, 32, 24)\n",
      "        GadgetronResUnetBasicBlock : input size (256, 32, 24), output size (96, 32, 24) --> (96, 32, 24)\n",
      "        GadgetronResUnetBasicBlock : input size (96, 32, 24), output size (96, 32, 24) --> (96, 32, 24)\n",
      "    GadgetronResUnet, up layer 2:\n",
      "        GadgetronResUnet_UpSample : input size (192, 32, 24), upsampled size (192, 64, 48)\n",
      "        GadgetronResUnetBasicBlock : input size (192, 64, 48), output size (96, 64, 48) --> (96, 64, 48)\n",
      "        GadgetronResUnetBasicBlock : input size (96, 64, 48), output size (96, 64, 48) --> (96, 64, 48)\n",
      "------------------------------------------------------------\n",
      "Output layer (96, 64, 48) --> (3, 64, 48)\n",
      "------------------------------------------------------------\n"
     ]
    },
    {
     "name": "stderr",
     "output_type": "stream",
     "text": [
      "c:\\python36\\lib\\site-packages\\torch\\cuda\\__init__.py:135: UserWarning: \n",
      "    Found GPU1 NVS 510 which is of cuda capability 3.0.\n",
      "    PyTorch no longer supports this GPU because it is too old.\n",
      "    The minimum cuda capability that we support is 3.5.\n",
      "    \n",
      "  warnings.warn(old_gpu_warn % (d, name, major, capability[1]))\n",
      "c:\\python36\\lib\\site-packages\\torch\\nn\\parallel\\data_parallel.py:26: UserWarning: \n",
      "    There is an imbalance between your GPUs. You may want to exclude GPU 1 which\n",
      "    has less than 75% of the memory or cores of GPU 0. You can do so by setting\n",
      "    the device_ids argument to DataParallel, or by setting the CUDA_VISIBLE_DEVICES\n",
      "    environment variable.\n",
      "  warnings.warn(imbalance_warn.format(device_ids[min_pos], device_ids[max_pos]))\n"
     ]
    },
    {
     "name": "stdout",
     "output_type": "stream",
     "text": [
      "model on multiple GPU ... \n"
     ]
    }
   ],
   "source": [
    "num_epochs = 50\n",
    "print_every = 100000\n",
    "\n",
    "# resnet\n",
    "inplanes = 96\n",
    "layers=[4, 4]\n",
    "layers_planes=[128, 128]\n",
    "growth_rate = 8\n",
    "\n",
    "#dense net\n",
    "inplanes = 64\n",
    "layers=[3, 3]\n",
    "layers_planes=[16, 32]\n",
    "growth_rate = 16\n",
    "\n",
    "# resnet, small\n",
    "inplanes = 96\n",
    "layers=[2, 3]\n",
    "layers_planes=[128, 128]\n",
    "growth_rate = 8\n",
    "\n",
    "print(perf_aif_dataset.aif[0].shape)\n",
    "C, H, W = perf_aif_dataset.aif[0].shape\n",
    "\n",
    "model = models.GadgetronResUnet18(F0=C, \n",
    "                          inplanes=inplanes, \n",
    "                          layers=layers, \n",
    "                          layers_planes=layers_planes, \n",
    "                          use_dropout=False, \n",
    "                          p=0.5, \n",
    "                          H=H, W=W, C=num_classes,\n",
    "                          verbose=True)\n",
    "\n",
    "if torch.cuda.device_count() > 1:\n",
    "    model = nn.DataParallel(model)\n",
    "    print(\"model on multiple GPU ... \")\n",
    "\n",
    "patience = 10\n",
    "factor = 0.5\n",
    "cooldown = 3\n",
    "min_lr = 1e-7\n",
    "\n",
    "weight_decay=0\n",
    "learning_rate = 1e-3\n",
    "\n",
    "optimizer = optim.Adam(model.parameters(), lr=learning_rate, betas=(0.9, 0.999), eps=1e-08, weight_decay=weight_decay, amsgrad=False)\n",
    "\n",
    "# optimizer = optim.SGD(model.parameters(), lr=learning_rate, momentum=0.9, weight_decay=weight_decay, nesterov=True)\n",
    "\n",
    "scheduler = torch.optim.lr_scheduler.ReduceLROnPlateau(optimizer, 'min', patience=patience, cooldown=cooldown, min_lr=min_lr, verbose=True)\n",
    "\n",
    "criterion = training.LossMulti(class_weights=class_weights, jaccard_weight=0.5)\n",
    "# criterion = nn.BCEWithLogitsLoss()\n",
    "# criterion = nn.BCELoss()\n",
    "\n",
    "log_dir = './aif_training/ResUnet' + '_lr_' + str(learning_rate) + '_epochs_' + str(num_epochs)\n",
    "writer = SummaryWriter(log_dir)"
   ]
  },
  {
   "cell_type": "code",
   "execution_count": 30,
   "metadata": {},
   "outputs": [],
   "source": [
    "aif_trainer = training.GadgetronMultiClassSeg_Perf(model, \n",
    "                                   optimizer, \n",
    "                                   criterion, \n",
    "                                   loader_for_train, \n",
    "                                   loader_for_val, \n",
    "                                   class_for_accu=class_for_accu,\n",
    "                                   p_thres = p_thres,\n",
    "                                   scheduler=scheduler, \n",
    "                                   epochs=num_epochs, \n",
    "                                   device=device, \n",
    "                                   x_dtype=torch.float32, \n",
    "                                   y_dtype=torch.long, \n",
    "                                   early_stopping_thres = 100,                              \n",
    "                                   print_every=print_every,\n",
    "                                   small_data_mode = False, \n",
    "                                   writer=writer, \n",
    "                                   model_folder=\"aif_training/\")"
   ]
  },
  {
   "cell_type": "code",
   "execution_count": 31,
   "metadata": {
    "scrolled": false
   },
   "outputs": [
    {
     "name": "stdout",
     "output_type": "stream",
     "text": [
      "50\n",
      "Start training ... \n",
      "Adam (\n",
      "Parameter Group 0\n",
      "    amsgrad: False\n",
      "    betas: (0.9, 0.999)\n",
      "    eps: 1e-08\n",
      "    lr: 0.001\n",
      "    weight_decay: 0\n",
      ")\n",
      "----------------------------------------\n"
     ]
    },
    {
     "data": {
      "application/vnd.jupyter.widget-view+json": {
       "model_id": "c021fe26c4a54dc691bb973f05a8891c",
       "version_major": 2,
       "version_minor": 0
      },
      "text/plain": [
       "HBox(children=(IntProgress(value=0, max=23040), HTML(value='')))"
      ]
     },
     "metadata": {},
     "output_type": "display_data"
    },
    {
     "name": "stdout",
     "output_type": "stream",
     "text": [
      "\n",
      "    107.86/5.88 seconds for Training/Validation --- Tra acc = 0.7579, Val acc = 0.8384 --- Tra loss = 0.0725, Val loss = 0.0194, --- class acc = 0.8389748649194851, 0.8378937777028216\n"
     ]
    },
    {
     "data": {
      "application/vnd.jupyter.widget-view+json": {
       "model_id": "6b3dd1d8198b49ad9f4f4bb8a257e6d5",
       "version_major": 2,
       "version_minor": 0
      },
      "text/plain": [
       "HBox(children=(IntProgress(value=0, max=23040), HTML(value='')))"
      ]
     },
     "metadata": {},
     "output_type": "display_data"
    },
    {
     "name": "stdout",
     "output_type": "stream",
     "text": [
      "\n",
      "    72.04/5.52 seconds for Training/Validation --- Tra acc = 0.8411, Val acc = 0.8614 --- Tra loss = 0.0183, Val loss = 0.0164, --- class acc = 0.8681851914607895, 0.8546765785546454\n"
     ]
    },
    {
     "data": {
      "application/vnd.jupyter.widget-view+json": {
       "model_id": "d132544f6b8e48ec968489c3763f333f",
       "version_major": 2,
       "version_minor": 0
      },
      "text/plain": [
       "HBox(children=(IntProgress(value=0, max=23040), HTML(value='')))"
      ]
     },
     "metadata": {},
     "output_type": "display_data"
    },
    {
     "name": "stdout",
     "output_type": "stream",
     "text": [
      "\n",
      "    69.01/4.92 seconds for Training/Validation --- Tra acc = 0.8554, Val acc = 0.8716 --- Tra loss = 0.0164, Val loss = 0.0158, --- class acc = 0.8842165152384245, 0.8590390625073149\n"
     ]
    },
    {
     "data": {
      "application/vnd.jupyter.widget-view+json": {
       "model_id": "1db765a356104b5ea5d7158339389223",
       "version_major": 2,
       "version_minor": 0
      },
      "text/plain": [
       "HBox(children=(IntProgress(value=0, max=23040), HTML(value='')))"
      ]
     },
     "metadata": {},
     "output_type": "display_data"
    },
    {
     "name": "stdout",
     "output_type": "stream",
     "text": [
      "\n",
      "    66.07/4.99 seconds for Training/Validation --- Tra acc = 0.8606, Val acc = 0.8754 --- Tra loss = 0.0157, Val loss = 0.0151, --- class acc = 0.8850794268248751, 0.8656503635307744\n"
     ]
    },
    {
     "data": {
      "application/vnd.jupyter.widget-view+json": {
       "model_id": "64b3f415ee294ca0a0c05db3c3cee17c",
       "version_major": 2,
       "version_minor": 0
      },
      "text/plain": [
       "HBox(children=(IntProgress(value=0, max=23040), HTML(value='')))"
      ]
     },
     "metadata": {},
     "output_type": "display_data"
    },
    {
     "name": "stdout",
     "output_type": "stream",
     "text": [
      "\n",
      "    63.27/4.62 seconds for Training/Validation --- Tra acc = 0.8655, Val acc = 0.8601 --- Tra loss = 0.0150, Val loss = 0.0148, --- class acc = 0.8577941371519064, 0.8624379239397789\n"
     ]
    },
    {
     "data": {
      "application/vnd.jupyter.widget-view+json": {
       "model_id": "2b8c637dcc4e4625bdda7f7d20e94bf6",
       "version_major": 2,
       "version_minor": 0
      },
      "text/plain": [
       "HBox(children=(IntProgress(value=0, max=23040), HTML(value='')))"
      ]
     },
     "metadata": {},
     "output_type": "display_data"
    },
    {
     "name": "stdout",
     "output_type": "stream",
     "text": [
      "\n",
      "    63.01/4.83 seconds for Training/Validation --- Tra acc = 0.8678, Val acc = 0.8836 --- Tra loss = 0.0147, Val loss = 0.0148, --- class acc = 0.8969535663052465, 0.8703327910440651\n"
     ]
    },
    {
     "data": {
      "application/vnd.jupyter.widget-view+json": {
       "model_id": "25d0a8f89607461c9b2329a11983eb38",
       "version_major": 2,
       "version_minor": 0
      },
      "text/plain": [
       "HBox(children=(IntProgress(value=0, max=23040), HTML(value='')))"
      ]
     },
     "metadata": {},
     "output_type": "display_data"
    },
    {
     "name": "stdout",
     "output_type": "stream",
     "text": [
      "\n",
      "    62.07/4.76 seconds for Training/Validation --- Tra acc = 0.8726, Val acc = 0.8708 --- Tra loss = 0.0141, Val loss = 0.0141, --- class acc = 0.8709107469392303, 0.8706873677035192\n"
     ]
    },
    {
     "data": {
      "application/vnd.jupyter.widget-view+json": {
       "model_id": "f36d4603dfe9499781f2aa168f36d4d3",
       "version_major": 2,
       "version_minor": 0
      },
      "text/plain": [
       "HBox(children=(IntProgress(value=0, max=23040), HTML(value='')))"
      ]
     },
     "metadata": {},
     "output_type": "display_data"
    },
    {
     "name": "stdout",
     "output_type": "stream",
     "text": [
      "\n",
      "    63.97/4.83 seconds for Training/Validation --- Tra acc = 0.8733, Val acc = 0.8725 --- Tra loss = 0.0141, Val loss = 0.0143, --- class acc = 0.8726676929945685, 0.8722473283513509\n"
     ]
    },
    {
     "data": {
      "application/vnd.jupyter.widget-view+json": {
       "model_id": "6289c14f3f6b4822a1a002cbded2e8f9",
       "version_major": 2,
       "version_minor": 0
      },
      "text/plain": [
       "HBox(children=(IntProgress(value=0, max=23040), HTML(value='')))"
      ]
     },
     "metadata": {},
     "output_type": "display_data"
    },
    {
     "name": "stdout",
     "output_type": "stream",
     "text": [
      "\n",
      "    64.01/4.43 seconds for Training/Validation --- Tra acc = 0.8761, Val acc = 0.8814 --- Tra loss = 0.0137, Val loss = 0.0135, --- class acc = 0.889044950929607, 0.8737420697454524\n"
     ]
    },
    {
     "data": {
      "application/vnd.jupyter.widget-view+json": {
       "model_id": "2084a2526b3743fa97c4ba750b6ef221",
       "version_major": 2,
       "version_minor": 0
      },
      "text/plain": [
       "HBox(children=(IntProgress(value=0, max=23040), HTML(value='')))"
      ]
     },
     "metadata": {},
     "output_type": "display_data"
    },
    {
     "name": "stdout",
     "output_type": "stream",
     "text": [
      "\n",
      "    60.93/4.84 seconds for Training/Validation --- Tra acc = 0.8772, Val acc = 0.8794 --- Tra loss = 0.0136, Val loss = 0.0136, --- class acc = 0.8824341281148411, 0.8763195798586794\n"
     ]
    },
    {
     "data": {
      "application/vnd.jupyter.widget-view+json": {
       "model_id": "dd497c8883804ab29f2f2c6519e8408b",
       "version_major": 2,
       "version_minor": 0
      },
      "text/plain": [
       "HBox(children=(IntProgress(value=0, max=23040), HTML(value='')))"
      ]
     },
     "metadata": {},
     "output_type": "display_data"
    },
    {
     "name": "stdout",
     "output_type": "stream",
     "text": [
      "\n",
      "    64.55/5.00 seconds for Training/Validation --- Tra acc = 0.8779, Val acc = 0.8713 --- Tra loss = 0.0136, Val loss = 0.0138, --- class acc = 0.8683579793255258, 0.8742578383945893\n"
     ]
    },
    {
     "data": {
      "application/vnd.jupyter.widget-view+json": {
       "model_id": "a015e1b2513c4aec9a174c89cd92dbbb",
       "version_major": 2,
       "version_minor": 0
      },
      "text/plain": [
       "HBox(children=(IntProgress(value=0, max=23040), HTML(value='')))"
      ]
     },
     "metadata": {},
     "output_type": "display_data"
    },
    {
     "name": "stdout",
     "output_type": "stream",
     "text": [
      "\n",
      "    64.00/4.64 seconds for Training/Validation --- Tra acc = 0.8793, Val acc = 0.8804 --- Tra loss = 0.0134, Val loss = 0.0136, --- class acc = 0.8839144153540109, 0.8768632967428645\n",
      "Epoch    11: reducing learning rate of group 0 to 1.0000e-04.\n"
     ]
    },
    {
     "data": {
      "application/vnd.jupyter.widget-view+json": {
       "model_id": "8a0db013421a4575be4c90bf22397731",
       "version_major": 2,
       "version_minor": 0
      },
      "text/plain": [
       "HBox(children=(IntProgress(value=0, max=23040), HTML(value='')))"
      ]
     },
     "metadata": {},
     "output_type": "display_data"
    },
    {
     "name": "stdout",
     "output_type": "stream",
     "text": [
      "\n",
      "    61.73/4.64 seconds for Training/Validation --- Tra acc = 0.8851, Val acc = 0.8857 --- Tra loss = 0.0127, Val loss = 0.0128, --- class acc = 0.8884851669648007, 0.8829957005618746\n"
     ]
    },
    {
     "data": {
      "application/vnd.jupyter.widget-view+json": {
       "model_id": "ba824a066d674cd2a047beae964d2249",
       "version_major": 2,
       "version_minor": 0
      },
      "text/plain": [
       "HBox(children=(IntProgress(value=0, max=23040), HTML(value='')))"
      ]
     },
     "metadata": {},
     "output_type": "display_data"
    },
    {
     "name": "stdout",
     "output_type": "stream",
     "text": [
      "\n",
      "    63.39/4.95 seconds for Training/Validation --- Tra acc = 0.8861, Val acc = 0.8842 --- Tra loss = 0.0125, Val loss = 0.0128, --- class acc = 0.8849557289569742, 0.8833761279214949\n"
     ]
    },
    {
     "data": {
      "application/vnd.jupyter.widget-view+json": {
       "model_id": "9130568010744f57adc54a69d8d6de92",
       "version_major": 2,
       "version_minor": 0
      },
      "text/plain": [
       "HBox(children=(IntProgress(value=0, max=23040), HTML(value='')))"
      ]
     },
     "metadata": {},
     "output_type": "display_data"
    },
    {
     "name": "stdout",
     "output_type": "stream",
     "text": [
      "\n",
      "    62.06/4.48 seconds for Training/Validation --- Tra acc = 0.8866, Val acc = 0.8849 --- Tra loss = 0.0125, Val loss = 0.0128, --- class acc = 0.8853650755987414, 0.8844196816990268\n"
     ]
    },
    {
     "data": {
      "application/vnd.jupyter.widget-view+json": {
       "model_id": "58246b6885d4431c8827c088c817f56a",
       "version_major": 2,
       "version_minor": 0
      },
      "text/plain": [
       "HBox(children=(IntProgress(value=0, max=23040), HTML(value='')))"
      ]
     },
     "metadata": {},
     "output_type": "display_data"
    },
    {
     "name": "stdout",
     "output_type": "stream",
     "text": [
      "\n",
      "    61.38/4.30 seconds for Training/Validation --- Tra acc = 0.8869, Val acc = 0.8799 --- Tra loss = 0.0124, Val loss = 0.0129, --- class acc = 0.8793711401700745, 0.8803674728964114\n"
     ]
    },
    {
     "data": {
      "application/vnd.jupyter.widget-view+json": {
       "model_id": "ec57107be7974230a841fdbeaa08299c",
       "version_major": 2,
       "version_minor": 0
      },
      "text/plain": [
       "HBox(children=(IntProgress(value=0, max=23040), HTML(value='')))"
      ]
     },
     "metadata": {},
     "output_type": "display_data"
    },
    {
     "name": "stdout",
     "output_type": "stream",
     "text": [
      "\n",
      "    64.97/4.63 seconds for Training/Validation --- Tra acc = 0.8877, Val acc = 0.8862 --- Tra loss = 0.0124, Val loss = 0.0127, --- class acc = 0.8885312816440659, 0.8838299415712731\n"
     ]
    },
    {
     "data": {
      "application/vnd.jupyter.widget-view+json": {
       "model_id": "91f1e87152364860a8bd5a922b1c18e7",
       "version_major": 2,
       "version_minor": 0
      },
      "text/plain": [
       "HBox(children=(IntProgress(value=0, max=23040), HTML(value='')))"
      ]
     },
     "metadata": {},
     "output_type": "display_data"
    },
    {
     "name": "stdout",
     "output_type": "stream",
     "text": [
      "\n",
      "    62.42/4.43 seconds for Training/Validation --- Tra acc = 0.8883, Val acc = 0.8890 --- Tra loss = 0.0123, Val loss = 0.0128, --- class acc = 0.8939495251254176, 0.884114970411116\n"
     ]
    },
    {
     "data": {
      "application/vnd.jupyter.widget-view+json": {
       "model_id": "eb1d2576319840e68eb41e643741ece1",
       "version_major": 2,
       "version_minor": 0
      },
      "text/plain": [
       "HBox(children=(IntProgress(value=0, max=23040), HTML(value='')))"
      ]
     },
     "metadata": {},
     "output_type": "display_data"
    },
    {
     "name": "stdout",
     "output_type": "stream",
     "text": [
      "\n",
      "    62.19/4.93 seconds for Training/Validation --- Tra acc = 0.8886, Val acc = 0.8856 --- Tra loss = 0.0123, Val loss = 0.0127, --- class acc = 0.885848073694187, 0.8852951620363435\n"
     ]
    },
    {
     "data": {
      "application/vnd.jupyter.widget-view+json": {
       "model_id": "a0844cc5192d4d0791a34fcd47f4b188",
       "version_major": 2,
       "version_minor": 0
      },
      "text/plain": [
       "HBox(children=(IntProgress(value=0, max=23040), HTML(value='')))"
      ]
     },
     "metadata": {},
     "output_type": "display_data"
    },
    {
     "name": "stdout",
     "output_type": "stream",
     "text": [
      "\n",
      "    62.94/4.81 seconds for Training/Validation --- Tra acc = 0.8890, Val acc = 0.8879 --- Tra loss = 0.0122, Val loss = 0.0128, --- class acc = 0.8916891889855594, 0.8841425492459496\n"
     ]
    },
    {
     "data": {
      "application/vnd.jupyter.widget-view+json": {
       "model_id": "8f2490927cff410b845aa1a155a0f306",
       "version_major": 2,
       "version_minor": 0
      },
      "text/plain": [
       "HBox(children=(IntProgress(value=0, max=23040), HTML(value='')))"
      ]
     },
     "metadata": {},
     "output_type": "display_data"
    },
    {
     "name": "stdout",
     "output_type": "stream",
     "text": [
      "\n",
      "    62.67/4.53 seconds for Training/Validation --- Tra acc = 0.8891, Val acc = 0.8915 --- Tra loss = 0.0122, Val loss = 0.0129, --- class acc = 0.8976745770053004, 0.8853238765025299\n"
     ]
    },
    {
     "data": {
      "application/vnd.jupyter.widget-view+json": {
       "model_id": "d0e4445037a248168b2bddb98b0bf208",
       "version_major": 2,
       "version_minor": 0
      },
      "text/plain": [
       "HBox(children=(IntProgress(value=0, max=23040), HTML(value='')))"
      ]
     },
     "metadata": {},
     "output_type": "display_data"
    },
    {
     "name": "stdout",
     "output_type": "stream",
     "text": [
      "\n",
      "    61.97/4.72 seconds for Training/Validation --- Tra acc = 0.8901, Val acc = 0.8871 --- Tra loss = 0.0121, Val loss = 0.0128, --- class acc = 0.890648184435251, 0.8836180192283565\n"
     ]
    },
    {
     "data": {
      "application/vnd.jupyter.widget-view+json": {
       "model_id": "1da6581c55f444e382227b2c97fc088f",
       "version_major": 2,
       "version_minor": 0
      },
      "text/plain": [
       "HBox(children=(IntProgress(value=0, max=23040), HTML(value='')))"
      ]
     },
     "metadata": {},
     "output_type": "display_data"
    },
    {
     "name": "stdout",
     "output_type": "stream",
     "text": [
      "\n",
      "    62.34/5.03 seconds for Training/Validation --- Tra acc = 0.8900, Val acc = 0.8872 --- Tra loss = 0.0121, Val loss = 0.0127, --- class acc = 0.8874394790781082, 0.8869310015114248\n"
     ]
    },
    {
     "data": {
      "application/vnd.jupyter.widget-view+json": {
       "model_id": "76c2769e21994e309e3f1984468087e3",
       "version_major": 2,
       "version_minor": 0
      },
      "text/plain": [
       "HBox(children=(IntProgress(value=0, max=23040), HTML(value='')))"
      ]
     },
     "metadata": {},
     "output_type": "display_data"
    },
    {
     "name": "stdout",
     "output_type": "stream",
     "text": [
      "\n",
      "    63.75/4.68 seconds for Training/Validation --- Tra acc = 0.8908, Val acc = 0.8863 --- Tra loss = 0.0120, Val loss = 0.0128, --- class acc = 0.8898583354565921, 0.8828392165962139\n"
     ]
    },
    {
     "data": {
      "application/vnd.jupyter.widget-view+json": {
       "model_id": "6122e8b7c9164805a69611d1030a9a79",
       "version_major": 2,
       "version_minor": 0
      },
      "text/plain": [
       "HBox(children=(IntProgress(value=0, max=23040), HTML(value='')))"
      ]
     },
     "metadata": {},
     "output_type": "display_data"
    },
    {
     "name": "stdout",
     "output_type": "stream",
     "text": [
      "\n",
      "    62.19/4.70 seconds for Training/Validation --- Tra acc = 0.8915, Val acc = 0.8881 --- Tra loss = 0.0120, Val loss = 0.0128, --- class acc = 0.8919392930466971, 0.8841893570077957\n"
     ]
    },
    {
     "data": {
      "application/vnd.jupyter.widget-view+json": {
       "model_id": "adaf4cfed659421b8ef3105fa1055b9c",
       "version_major": 2,
       "version_minor": 0
      },
      "text/plain": [
       "HBox(children=(IntProgress(value=0, max=23040), HTML(value='')))"
      ]
     },
     "metadata": {},
     "output_type": "display_data"
    },
    {
     "name": "stdout",
     "output_type": "stream",
     "text": [
      "\n",
      "    64.49/4.61 seconds for Training/Validation --- Tra acc = 0.8919, Val acc = 0.8911 --- Tra loss = 0.0119, Val loss = 0.0129, --- class acc = 0.8968852620111102, 0.8854113475474049\n",
      "Epoch    25: reducing learning rate of group 0 to 1.0000e-05.\n"
     ]
    },
    {
     "data": {
      "application/vnd.jupyter.widget-view+json": {
       "model_id": "c57d708132dc4b1b920bc6a5b44d3205",
       "version_major": 2,
       "version_minor": 0
      },
      "text/plain": [
       "HBox(children=(IntProgress(value=0, max=23040), HTML(value='')))"
      ]
     },
     "metadata": {},
     "output_type": "display_data"
    },
    {
     "name": "stdout",
     "output_type": "stream",
     "text": [
      "\n",
      "    62.37/4.40 seconds for Training/Validation --- Tra acc = 0.8947, Val acc = 0.8925 --- Tra loss = 0.0115, Val loss = 0.0129, --- class acc = 0.8983868062210448, 0.8866178580235657\n"
     ]
    },
    {
     "data": {
      "application/vnd.jupyter.widget-view+json": {
       "model_id": "711e903902be44509c173cc1d208b84c",
       "version_major": 2,
       "version_minor": 0
      },
      "text/plain": [
       "HBox(children=(IntProgress(value=0, max=23040), HTML(value='')))"
      ]
     },
     "metadata": {},
     "output_type": "display_data"
    },
    {
     "name": "stdout",
     "output_type": "stream",
     "text": [
      "\n",
      "    61.16/4.53 seconds for Training/Validation --- Tra acc = 0.8957, Val acc = 0.8923 --- Tra loss = 0.0114, Val loss = 0.0128, --- class acc = 0.8988160291545572, 0.8857598071587509\n"
     ]
    },
    {
     "data": {
      "application/vnd.jupyter.widget-view+json": {
       "model_id": "19cf62c5002d4c82bfae8639bce2a582",
       "version_major": 2,
       "version_minor": 0
      },
      "text/plain": [
       "HBox(children=(IntProgress(value=0, max=23040), HTML(value='')))"
      ]
     },
     "metadata": {},
     "output_type": "display_data"
    },
    {
     "name": "stdout",
     "output_type": "stream",
     "text": [
      "\n",
      "    62.69/4.44 seconds for Training/Validation --- Tra acc = 0.8960, Val acc = 0.8888 --- Tra loss = 0.0113, Val loss = 0.0128, --- class acc = 0.8927377900135482, 0.8848696477346887\n"
     ]
    },
    {
     "data": {
      "application/vnd.jupyter.widget-view+json": {
       "model_id": "64fb68c4a3394ede9b103335484d5a17",
       "version_major": 2,
       "version_minor": 0
      },
      "text/plain": [
       "HBox(children=(IntProgress(value=0, max=23040), HTML(value='')))"
      ]
     },
     "metadata": {},
     "output_type": "display_data"
    },
    {
     "name": "stdout",
     "output_type": "stream",
     "text": [
      "\n",
      "    64.90/4.80 seconds for Training/Validation --- Tra acc = 0.8966, Val acc = 0.8896 --- Tra loss = 0.0113, Val loss = 0.0127, --- class acc = 0.8918159682364386, 0.8874150529460962\n"
     ]
    },
    {
     "data": {
      "application/vnd.jupyter.widget-view+json": {
       "model_id": "0f8498dfab984e28a56abaf627d0f729",
       "version_major": 2,
       "version_minor": 0
      },
      "text/plain": [
       "HBox(children=(IntProgress(value=0, max=23040), HTML(value='')))"
      ]
     },
     "metadata": {},
     "output_type": "display_data"
    },
    {
     "name": "stdout",
     "output_type": "stream",
     "text": [
      "\n",
      "    62.81/4.81 seconds for Training/Validation --- Tra acc = 0.8968, Val acc = 0.8903 --- Tra loss = 0.0112, Val loss = 0.0130, --- class acc = 0.8941292877050968, 0.8865377219502787\n"
     ]
    },
    {
     "data": {
      "application/vnd.jupyter.widget-view+json": {
       "model_id": "e5176d58f2d44d29841fee47b061d62d",
       "version_major": 2,
       "version_minor": 0
      },
      "text/plain": [
       "HBox(children=(IntProgress(value=0, max=23040), HTML(value='')))"
      ]
     },
     "metadata": {},
     "output_type": "display_data"
    },
    {
     "name": "stdout",
     "output_type": "stream",
     "text": [
      "\n",
      "    61.96/4.55 seconds for Training/Validation --- Tra acc = 0.8971, Val acc = 0.8859 --- Tra loss = 0.0112, Val loss = 0.0129, --- class acc = 0.8863643452396558, 0.885440403983097\n"
     ]
    },
    {
     "data": {
      "application/vnd.jupyter.widget-view+json": {
       "model_id": "dd0093b702ae4e25a271903cdb0ab989",
       "version_major": 2,
       "version_minor": 0
      },
      "text/plain": [
       "HBox(children=(IntProgress(value=0, max=23040), HTML(value='')))"
      ]
     },
     "metadata": {},
     "output_type": "display_data"
    },
    {
     "name": "stdout",
     "output_type": "stream",
     "text": [
      "\n",
      "    63.08/4.44 seconds for Training/Validation --- Tra acc = 0.8973, Val acc = 0.8903 --- Tra loss = 0.0112, Val loss = 0.0129, --- class acc = 0.8956386496670979, 0.8849679941413272\n"
     ]
    },
    {
     "data": {
      "application/vnd.jupyter.widget-view+json": {
       "model_id": "56dc8d6cb30f45ba8017acf4dd4b88d3",
       "version_major": 2,
       "version_minor": 0
      },
      "text/plain": [
       "HBox(children=(IntProgress(value=0, max=23040), HTML(value='')))"
      ]
     },
     "metadata": {},
     "output_type": "display_data"
    },
    {
     "name": "stdout",
     "output_type": "stream",
     "text": [
      "\n",
      "    61.77/4.90 seconds for Training/Validation --- Tra acc = 0.8978, Val acc = 0.8883 --- Tra loss = 0.0111, Val loss = 0.0129, --- class acc = 0.8900679956803729, 0.8864651750398163\n"
     ]
    },
    {
     "data": {
      "application/vnd.jupyter.widget-view+json": {
       "model_id": "4c9ab9c6d550490785a20d1cfdda00f2",
       "version_major": 2,
       "version_minor": 0
      },
      "text/plain": [
       "HBox(children=(IntProgress(value=0, max=23040), HTML(value='')))"
      ]
     },
     "metadata": {},
     "output_type": "display_data"
    },
    {
     "name": "stdout",
     "output_type": "stream",
     "text": [
      "\n",
      "    61.83/4.62 seconds for Training/Validation --- Tra acc = 0.8978, Val acc = 0.8906 --- Tra loss = 0.0111, Val loss = 0.0130, --- class acc = 0.8960107344337529, 0.8851642188038373\n"
     ]
    },
    {
     "data": {
      "application/vnd.jupyter.widget-view+json": {
       "model_id": "5e7c362641d34c52aec5e8c646904af3",
       "version_major": 2,
       "version_minor": 0
      },
      "text/plain": [
       "HBox(children=(IntProgress(value=0, max=23040), HTML(value='')))"
      ]
     },
     "metadata": {},
     "output_type": "display_data"
    },
    {
     "name": "stdout",
     "output_type": "stream",
     "text": [
      "\n",
      "    62.79/4.87 seconds for Training/Validation --- Tra acc = 0.8983, Val acc = 0.8902 --- Tra loss = 0.0110, Val loss = 0.0131, --- class acc = 0.8938059162202069, 0.8865928009852467\n"
     ]
    },
    {
     "data": {
      "application/vnd.jupyter.widget-view+json": {
       "model_id": "c8415f105bda4def921808f77392e8f3",
       "version_major": 2,
       "version_minor": 0
      },
      "text/plain": [
       "HBox(children=(IntProgress(value=0, max=23040), HTML(value='')))"
      ]
     },
     "metadata": {},
     "output_type": "display_data"
    },
    {
     "name": "stdout",
     "output_type": "stream",
     "text": [
      "\n",
      "    63.84/4.84 seconds for Training/Validation --- Tra acc = 0.8985, Val acc = 0.8912 --- Tra loss = 0.0110, Val loss = 0.0132, --- class acc = 0.8965860551521396, 0.885889069803152\n"
     ]
    },
    {
     "data": {
      "application/vnd.jupyter.widget-view+json": {
       "model_id": "d5fe56bb974f4f2f98936cfdbdd8e412",
       "version_major": 2,
       "version_minor": 0
      },
      "text/plain": [
       "HBox(children=(IntProgress(value=0, max=23040), HTML(value='')))"
      ]
     },
     "metadata": {},
     "output_type": "display_data"
    },
    {
     "name": "stdout",
     "output_type": "stream",
     "text": [
      "\n",
      "    65.49/4.54 seconds for Training/Validation --- Tra acc = 0.8991, Val acc = 0.8899 --- Tra loss = 0.0110, Val loss = 0.0131, --- class acc = 0.8931275986756483, 0.8866260543194164\n"
     ]
    },
    {
     "data": {
      "application/vnd.jupyter.widget-view+json": {
       "model_id": "92d92535a5654ef9ae2d99137669b482",
       "version_major": 2,
       "version_minor": 0
      },
      "text/plain": [
       "HBox(children=(IntProgress(value=0, max=23040), HTML(value='')))"
      ]
     },
     "metadata": {},
     "output_type": "display_data"
    },
    {
     "name": "stdout",
     "output_type": "stream",
     "text": [
      "\n",
      "    64.62/4.99 seconds for Training/Validation --- Tra acc = 0.8991, Val acc = 0.8923 --- Tra loss = 0.0109, Val loss = 0.0131, --- class acc = 0.898129374503175, 0.8864650598308385\n"
     ]
    },
    {
     "data": {
      "application/vnd.jupyter.widget-view+json": {
       "model_id": "60caa1d5032b433abfd5b6abc2922eb8",
       "version_major": 2,
       "version_minor": 0
      },
      "text/plain": [
       "HBox(children=(IntProgress(value=0, max=23040), HTML(value='')))"
      ]
     },
     "metadata": {},
     "output_type": "display_data"
    },
    {
     "name": "stdout",
     "output_type": "stream",
     "text": [
      "\n",
      "    63.36/4.38 seconds for Training/Validation --- Tra acc = 0.8993, Val acc = 0.8911 --- Tra loss = 0.0109, Val loss = 0.0132, --- class acc = 0.8956759682323423, 0.8866021073104551\n",
      "Epoch    39: reducing learning rate of group 0 to 1.0000e-06.\n"
     ]
    },
    {
     "data": {
      "application/vnd.jupyter.widget-view+json": {
       "model_id": "04b958c4c8844cf7944347f8dd88069d",
       "version_major": 2,
       "version_minor": 0
      },
      "text/plain": [
       "HBox(children=(IntProgress(value=0, max=23040), HTML(value='')))"
      ]
     },
     "metadata": {},
     "output_type": "display_data"
    },
    {
     "name": "stdout",
     "output_type": "stream",
     "text": [
      "\n",
      "    64.29/5.12 seconds for Training/Validation --- Tra acc = 0.9001, Val acc = 0.8914 --- Tra loss = 0.0108, Val loss = 0.0129, --- class acc = 0.896342841685104, 0.8863923775955449\n"
     ]
    },
    {
     "data": {
      "application/vnd.jupyter.widget-view+json": {
       "model_id": "4f67a9506442492b8c9a808a5bfaed1d",
       "version_major": 2,
       "version_minor": 0
      },
      "text/plain": [
       "HBox(children=(IntProgress(value=0, max=23040), HTML(value='')))"
      ]
     },
     "metadata": {},
     "output_type": "display_data"
    },
    {
     "name": "stdout",
     "output_type": "stream",
     "text": [
      "\n",
      "    65.24/4.97 seconds for Training/Validation --- Tra acc = 0.8999, Val acc = 0.8911 --- Tra loss = 0.0109, Val loss = 0.0130, --- class acc = 0.8944980679856737, 0.8877458106065642\n"
     ]
    },
    {
     "data": {
      "application/vnd.jupyter.widget-view+json": {
       "model_id": "6de0c36f079d48458b2892f70e1c78a0",
       "version_major": 2,
       "version_minor": 0
      },
      "text/plain": [
       "HBox(children=(IntProgress(value=0, max=23040), HTML(value='')))"
      ]
     },
     "metadata": {},
     "output_type": "display_data"
    },
    {
     "name": "stdout",
     "output_type": "stream",
     "text": [
      "\n",
      "    63.59/5.39 seconds for Training/Validation --- Tra acc = 0.9002, Val acc = 0.8903 --- Tra loss = 0.0108, Val loss = 0.0132, --- class acc = 0.8951165116073301, 0.8855658025549562\n"
     ]
    },
    {
     "data": {
      "application/vnd.jupyter.widget-view+json": {
       "model_id": "c9ac76982e314efa969b66a5bb111208",
       "version_major": 2,
       "version_minor": 0
      },
      "text/plain": [
       "HBox(children=(IntProgress(value=0, max=23040), HTML(value='')))"
      ]
     },
     "metadata": {},
     "output_type": "display_data"
    },
    {
     "name": "stdout",
     "output_type": "stream",
     "text": [
      "\n",
      "    62.55/4.27 seconds for Training/Validation --- Tra acc = 0.9001, Val acc = 0.8918 --- Tra loss = 0.0108, Val loss = 0.0132, --- class acc = 0.895723364840075, 0.8879074140568822\n"
     ]
    },
    {
     "data": {
      "application/vnd.jupyter.widget-view+json": {
       "model_id": "ab77063db91746c68f322b692e1e336c",
       "version_major": 2,
       "version_minor": 0
      },
      "text/plain": [
       "HBox(children=(IntProgress(value=0, max=23040), HTML(value='')))"
      ]
     },
     "metadata": {},
     "output_type": "display_data"
    },
    {
     "name": "stdout",
     "output_type": "stream",
     "text": [
      "\n",
      "    64.93/4.81 seconds for Training/Validation --- Tra acc = 0.9001, Val acc = 0.8908 --- Tra loss = 0.0108, Val loss = 0.0130, --- class acc = 0.8944959960527868, 0.8871771134900452\n"
     ]
    },
    {
     "data": {
      "application/vnd.jupyter.widget-view+json": {
       "model_id": "ae4c3f21483f424fb37471822d1a119f",
       "version_major": 2,
       "version_minor": 0
      },
      "text/plain": [
       "HBox(children=(IntProgress(value=0, max=23040), HTML(value='')))"
      ]
     },
     "metadata": {},
     "output_type": "display_data"
    },
    {
     "name": "stdout",
     "output_type": "stream",
     "text": [
      "\n",
      "    63.04/4.55 seconds for Training/Validation --- Tra acc = 0.9005, Val acc = 0.8923 --- Tra loss = 0.0108, Val loss = 0.0131, --- class acc = 0.8978132118086115, 0.8867984636403684\n"
     ]
    },
    {
     "data": {
      "application/vnd.jupyter.widget-view+json": {
       "model_id": "c8a392ee29fc4ad1b2cf2aab122b8ec9",
       "version_major": 2,
       "version_minor": 0
      },
      "text/plain": [
       "HBox(children=(IntProgress(value=0, max=23040), HTML(value='')))"
      ]
     },
     "metadata": {},
     "output_type": "display_data"
    },
    {
     "name": "stdout",
     "output_type": "stream",
     "text": [
      "\n",
      "    61.19/4.68 seconds for Training/Validation --- Tra acc = 0.9005, Val acc = 0.8888 --- Tra loss = 0.0108, Val loss = 0.0131, --- class acc = 0.8932028173371678, 0.8843589574241455\n"
     ]
    },
    {
     "data": {
      "application/vnd.jupyter.widget-view+json": {
       "model_id": "d0f467c3d16c40b3b177cadabe7aa242",
       "version_major": 2,
       "version_minor": 0
      },
      "text/plain": [
       "HBox(children=(IntProgress(value=0, max=23040), HTML(value='')))"
      ]
     },
     "metadata": {},
     "output_type": "display_data"
    },
    {
     "name": "stdout",
     "output_type": "stream",
     "text": [
      "\n",
      "    63.91/4.61 seconds for Training/Validation --- Tra acc = 0.9005, Val acc = 0.8914 --- Tra loss = 0.0108, Val loss = 0.0133, --- class acc = 0.8945610086618425, 0.8882171469932549\n"
     ]
    },
    {
     "data": {
      "application/vnd.jupyter.widget-view+json": {
       "model_id": "03858373bda749a8bac6e00a0a3cec81",
       "version_major": 2,
       "version_minor": 0
      },
      "text/plain": [
       "HBox(children=(IntProgress(value=0, max=23040), HTML(value='')))"
      ]
     },
     "metadata": {},
     "output_type": "display_data"
    },
    {
     "name": "stdout",
     "output_type": "stream",
     "text": [
      "\n",
      "    62.09/4.66 seconds for Training/Validation --- Tra acc = 0.9001, Val acc = 0.8904 --- Tra loss = 0.0108, Val loss = 0.0132, --- class acc = 0.8943911705126812, 0.886502094945423\n"
     ]
    },
    {
     "data": {
      "application/vnd.jupyter.widget-view+json": {
       "model_id": "8bbfee1c1cee46e2b32272e45a69aa58",
       "version_major": 2,
       "version_minor": 0
      },
      "text/plain": [
       "HBox(children=(IntProgress(value=0, max=23040), HTML(value='')))"
      ]
     },
     "metadata": {},
     "output_type": "display_data"
    },
    {
     "name": "stdout",
     "output_type": "stream",
     "text": [
      "\n",
      "    60.70/4.85 seconds for Training/Validation --- Tra acc = 0.9005, Val acc = 0.8928 --- Tra loss = 0.0108, Val loss = 0.0132, --- class acc = 0.8982749145302996, 0.8874195534110869\n"
     ]
    }
   ],
   "source": [
    "epochs_traning, epochs_validation, best_model, loss_all, epochs_acc_class = aif_trainer.train(verbose=True, epoch_to_load=-1, save_model_epoch=True)"
   ]
  },
  {
   "cell_type": "code",
   "execution_count": 34,
   "metadata": {},
   "outputs": [
    {
     "data": {
      "text/plain": [
       "[<matplotlib.lines.Line2D at 0x7f53ba334940>]"
      ]
     },
     "execution_count": 34,
     "metadata": {},
     "output_type": "execute_result"
    },
    {
     "data": {
      "image/png": "[encoded data removed]",
      "text/plain": [
       "<Figure size 432x288 with 1 Axes>"
      ]
     },
     "metadata": {
      "needs_background": "light"
     },
     "output_type": "display_data"
    }
   ],
   "source": [
    "fig = plt.figure()\n",
    "plt.plot(loss_all[0:500,0], loss_all[0:500,1])"
   ]
  },
  {
   "cell_type": "code",
   "execution_count": 35,
   "metadata": {},
   "outputs": [
    {
     "name": "stdout",
     "output_type": "stream",
     "text": [
      "0.8929068253572927 0.013101390576345465\n",
      "[0.89831699 0.88749677]\n"
     ]
    }
   ],
   "source": [
    "acc, loss, acc_class = aif_trainer.check_validation_test_accuracy(loader_for_val, best_model)\n",
    "print(acc, loss)\n",
    "print(acc_class)"
   ]
  },
  {
   "cell_type": "markdown",
   "metadata": {},
   "source": [
    "## Train with binary segmenation"
   ]
  },
  {
   "cell_type": "code",
   "execution_count": null,
   "metadata": {},
   "outputs": [],
   "source": [
    "# data augmenation for random flipping\n",
    "transform = torchvision.transforms.Compose([RandomFlip1stDim(0.5), RandomFlip2ndDim(0.5)])"
   ]
  },
  {
   "cell_type": "code",
   "execution_count": null,
   "metadata": {},
   "outputs": [],
   "source": [
    "perf_aif_dataset.transform = transform"
   ]
  },
  {
   "cell_type": "code",
   "execution_count": null,
   "metadata": {},
   "outputs": [],
   "source": [
    "perf_aif_dataset.which_mask = 'lv'\n",
    "num_classes = 1\n",
    "p_thres = 0.5"
   ]
  },
  {
   "cell_type": "code",
   "execution_count": null,
   "metadata": {},
   "outputs": [],
   "source": [
    "print(perf_aif_dataset.which_mask)\n",
    "\n",
    "sample = perf_aif_dataset[1]\n",
    "\n",
    "print(sample[1].shape)\n",
    "\n",
    "plt.figure()\n",
    "plt.imshow(np.squeeze(sample[1]))"
   ]
  },
  {
   "cell_type": "code",
   "execution_count": null,
   "metadata": {},
   "outputs": [],
   "source": [
    "images, masks, names = iter_train.next()\n",
    "\n",
    "B, C, RO, E1 = images.shape\n",
    "\n",
    "print(images.shape)\n",
    "print(masks.shape)\n",
    "print(torch.max(images))\n",
    "print(torch.max(masks))\n",
    "\n",
    "a = images[:,32,:,:]\n",
    "a = torch.reshape(a, (B, 1, RO, E1))\n",
    "\n",
    "plt.figure(figsize=(16, 16))\n",
    "show(make_grid(a.double(), nrow=8, padding=2, normalize=False, scale_each=True))\n",
    "\n",
    "plt.figure(figsize=(16, 16))\n",
    "show(make_grid(masks.double(), nrow=8, padding=2, normalize=True, scale_each=False))\n",
    "\n",
    "X = images.type(torch.FloatTensor)\n",
    "y = masks.type(torch.FloatTensor)\n",
    "print(X.shape)\n",
    "print(y.shape)"
   ]
  },
  {
   "cell_type": "code",
   "execution_count": null,
   "metadata": {
    "scrolled": false
   },
   "outputs": [],
   "source": [
    "num_epochs = 50\n",
    "print_every = 100000\n",
    "\n",
    "inplanes = 96\n",
    "layers=[4, 4]\n",
    "layers_planes=[128, 128]\n",
    "\n",
    "print(perf_aif_dataset.aif[0].shape)\n",
    "C, H, W = perf_aif_dataset.aif[0].shape\n",
    "\n",
    "model = models.GadgetronResUnet18(F0=C, \n",
    "                          inplanes=inplanes, \n",
    "                          layers=layers, \n",
    "                          layers_planes=layers_planes, \n",
    "                          use_dropout=False, \n",
    "                          p=0.5, \n",
    "                          H=H, W=W, C=num_classes,\n",
    "                          verbose=True)\n",
    "\n",
    "if torch.cuda.device_count() > 1:\n",
    "    model = nn.DataParallel(model)\n",
    "    print(\"model on multiple GPU ... \")\n",
    "\n",
    "patience = 10\n",
    "factor = 0.5\n",
    "cooldown = 3\n",
    "min_lr = 1e-7\n",
    "\n",
    "weight_decay=0\n",
    "learning_rate = 1e-3\n",
    "\n",
    "optimizer = optim.Adam(model.parameters(), lr=learning_rate, betas=(0.9, 0.999), eps=1e-08, weight_decay=weight_decay, amsgrad=False)\n",
    "\n",
    "# optimizer = optim.SGD(model.parameters(), lr=learning_rate, momentum=0.9, weight_decay=weight_decay, nesterov=True)\n",
    "\n",
    "scheduler = torch.optim.lr_scheduler.ReduceLROnPlateau(optimizer, 'min', patience=patience, cooldown=cooldown, min_lr=min_lr, verbose=True)\n",
    "\n",
    "criterion = training.LossBinary(jaccard_weight=0.5)\n",
    "# criterion = training.LossMulti(class_weights=class_weights, jaccard_weight=0.5)\n",
    "\n",
    "log_dir = 'aif_training/ResUnet' + '_lr_' + str(learning_rate) + '_epochs_' + str(num_epochs)\n",
    "writer = SummaryWriter(log_dir)"
   ]
  },
  {
   "cell_type": "code",
   "execution_count": null,
   "metadata": {},
   "outputs": [],
   "source": [
    "aif_trainer = training.GadgetronTwoClassSeg_PerfAIF(model, \n",
    "                                   optimizer, \n",
    "                                   criterion, \n",
    "                                   loader_for_train, \n",
    "                                   loader_for_val, \n",
    "                                   p_thres=p_thres, \n",
    "                                   scheduler=scheduler, \n",
    "                                   epochs=num_epochs, \n",
    "                                   device=device, \n",
    "                                   x_dtype=torch.float32, \n",
    "                                   y_dtype=torch.float32, \n",
    "                                   early_stopping_thres = 100,                              \n",
    "                                   print_every=print_every, \n",
    "                                   small_data_mode = False, \n",
    "                                   writer=writer, \n",
    "                                   model_folder=\"aif_training/\")"
   ]
  },
  {
   "cell_type": "code",
   "execution_count": null,
   "metadata": {
    "scrolled": true
   },
   "outputs": [],
   "source": [
    "epochs_traning, epochs_validation, best_model, loss_all, epochs_acc_class = aif_trainer.train(verbose=True, epoch_to_load=-1, save_model_epoch=True)"
   ]
  },
  {
   "cell_type": "markdown",
   "metadata": {},
   "source": [
    "## Saving the model"
   ]
  },
  {
   "cell_type": "code",
   "execution_count": 37,
   "metadata": {},
   "outputs": [
    {
     "name": "stdout",
     "output_type": "stream",
     "text": [
      "GadgetronResUnet(\n",
      "  (input_layer): GadgetronResUnetInputBlock(\n",
      "    (conv1): Conv2d(64, 96, kernel_size=(3, 3), stride=(1, 1), padding=(1, 1), bias=False)\n",
      "    (bn1): BatchNorm2d(96, eps=1e-05, momentum=0.1, affine=True, track_running_stats=True)\n",
      "    (relu): ReLU(inplace)\n",
      "    (conv2): Conv2d(96, 96, kernel_size=(3, 3), stride=(1, 1), padding=(1, 1), bias=False)\n",
      "  )\n",
      "  (down_layers): Sequential(\n",
      "    (Down layer 0): Sequential(\n",
      "      (downsample): MaxPool2d(kernel_size=2, stride=2, padding=0, dilation=1, ceil_mode=False)\n",
      "      (ResBlock0): GadgetronResUnetBasicBlock(\n",
      "        (bn1): BatchNorm2d(96, eps=1e-05, momentum=0.1, affine=True, track_running_stats=True)\n",
      "        (relu1): ReLU(inplace)\n",
      "        (conv1): Conv2d(96, 128, kernel_size=(3, 3), stride=(1, 1), padding=(1, 1), bias=False)\n",
      "        (bn2): BatchNorm2d(128, eps=1e-05, momentum=0.1, affine=True, track_running_stats=True)\n",
      "        (relu2): ReLU(inplace)\n",
      "        (conv2): Conv2d(128, 128, kernel_size=(3, 3), stride=(1, 1), padding=(1, 1), bias=False)\n",
      "        (dp): Dropout2d(p=0.5)\n",
      "      )\n",
      "      (ResBlock1): GadgetronResUnetBasicBlock(\n",
      "        (bn1): BatchNorm2d(128, eps=1e-05, momentum=0.1, affine=True, track_running_stats=True)\n",
      "        (relu1): ReLU(inplace)\n",
      "        (conv1): Conv2d(128, 128, kernel_size=(3, 3), stride=(1, 1), padding=(1, 1), bias=False)\n",
      "        (bn2): BatchNorm2d(128, eps=1e-05, momentum=0.1, affine=True, track_running_stats=True)\n",
      "        (relu2): ReLU(inplace)\n",
      "        (conv2): Conv2d(128, 128, kernel_size=(3, 3), stride=(1, 1), padding=(1, 1), bias=False)\n",
      "        (dp): Dropout2d(p=0.5)\n",
      "      )\n",
      "    )\n",
      "    (Down layer 1): Sequential(\n",
      "      (downsample): MaxPool2d(kernel_size=2, stride=2, padding=0, dilation=1, ceil_mode=False)\n",
      "      (ResBlock0): GadgetronResUnetBasicBlock(\n",
      "        (bn1): BatchNorm2d(128, eps=1e-05, momentum=0.1, affine=True, track_running_stats=True)\n",
      "        (relu1): ReLU(inplace)\n",
      "        (conv1): Conv2d(128, 128, kernel_size=(3, 3), stride=(1, 1), padding=(1, 1), bias=False)\n",
      "        (bn2): BatchNorm2d(128, eps=1e-05, momentum=0.1, affine=True, track_running_stats=True)\n",
      "        (relu2): ReLU(inplace)\n",
      "        (conv2): Conv2d(128, 128, kernel_size=(3, 3), stride=(1, 1), padding=(1, 1), bias=False)\n",
      "        (dp): Dropout2d(p=0.5)\n",
      "      )\n",
      "      (ResBlock1): GadgetronResUnetBasicBlock(\n",
      "        (bn1): BatchNorm2d(128, eps=1e-05, momentum=0.1, affine=True, track_running_stats=True)\n",
      "        (relu1): ReLU(inplace)\n",
      "        (conv1): Conv2d(128, 128, kernel_size=(3, 3), stride=(1, 1), padding=(1, 1), bias=False)\n",
      "        (bn2): BatchNorm2d(128, eps=1e-05, momentum=0.1, affine=True, track_running_stats=True)\n",
      "        (relu2): ReLU(inplace)\n",
      "        (conv2): Conv2d(128, 128, kernel_size=(3, 3), stride=(1, 1), padding=(1, 1), bias=False)\n",
      "        (dp): Dropout2d(p=0.5)\n",
      "      )\n",
      "      (ResBlock2): GadgetronResUnetBasicBlock(\n",
      "        (bn1): BatchNorm2d(128, eps=1e-05, momentum=0.1, affine=True, track_running_stats=True)\n",
      "        (relu1): ReLU(inplace)\n",
      "        (conv1): Conv2d(128, 128, kernel_size=(3, 3), stride=(1, 1), padding=(1, 1), bias=False)\n",
      "        (bn2): BatchNorm2d(128, eps=1e-05, momentum=0.1, affine=True, track_running_stats=True)\n",
      "        (relu2): ReLU(inplace)\n",
      "        (conv2): Conv2d(128, 128, kernel_size=(3, 3), stride=(1, 1), padding=(1, 1), bias=False)\n",
      "        (dp): Dropout2d(p=0.5)\n",
      "      )\n",
      "    )\n",
      "  )\n",
      "  (bridge_layer): Sequential(\n",
      "    (downsample): MaxPool2d(kernel_size=2, stride=2, padding=0, dilation=1, ceil_mode=False)\n",
      "    (ResBlock0): GadgetronResUnetBasicBlock(\n",
      "      (bn1): BatchNorm2d(128, eps=1e-05, momentum=0.1, affine=True, track_running_stats=True)\n",
      "      (relu1): ReLU(inplace)\n",
      "      (conv1): Conv2d(128, 128, kernel_size=(3, 3), stride=(1, 1), padding=(1, 1), bias=False)\n",
      "      (bn2): BatchNorm2d(128, eps=1e-05, momentum=0.1, affine=True, track_running_stats=True)\n",
      "      (relu2): ReLU(inplace)\n",
      "      (conv2): Conv2d(128, 128, kernel_size=(3, 3), stride=(1, 1), padding=(1, 1), bias=False)\n",
      "      (dp): Dropout2d(p=0.5)\n",
      "    )\n",
      "    (ResBlock1): GadgetronResUnetBasicBlock(\n",
      "      (bn1): BatchNorm2d(128, eps=1e-05, momentum=0.1, affine=True, track_running_stats=True)\n",
      "      (relu1): ReLU(inplace)\n",
      "      (conv1): Conv2d(128, 128, kernel_size=(3, 3), stride=(1, 1), padding=(1, 1), bias=False)\n",
      "      (bn2): BatchNorm2d(128, eps=1e-05, momentum=0.1, affine=True, track_running_stats=True)\n",
      "      (relu2): ReLU(inplace)\n",
      "      (conv2): Conv2d(128, 128, kernel_size=(3, 3), stride=(1, 1), padding=(1, 1), bias=False)\n",
      "      (dp): Dropout2d(p=0.5)\n",
      "    )\n",
      "    (ResBlock2): GadgetronResUnetBasicBlock(\n",
      "      (bn1): BatchNorm2d(128, eps=1e-05, momentum=0.1, affine=True, track_running_stats=True)\n",
      "      (relu1): ReLU(inplace)\n",
      "      (conv1): Conv2d(128, 128, kernel_size=(3, 3), stride=(1, 1), padding=(1, 1), bias=False)\n",
      "      (bn2): BatchNorm2d(128, eps=1e-05, momentum=0.1, affine=True, track_running_stats=True)\n",
      "      (relu2): ReLU(inplace)\n",
      "      (conv2): Conv2d(128, 128, kernel_size=(3, 3), stride=(1, 1), padding=(1, 1), bias=False)\n",
      "      (dp): Dropout2d(p=0.5)\n",
      "    )\n",
      "  )\n",
      "  (up_layers): Sequential(\n",
      "    (Up layer 0): GadgetronResUnet_UpSample(\n",
      "      (blocks): Sequential(\n",
      "        (upsample 0): GadgetronResUnetBasicBlock(\n",
      "          (bn1): BatchNorm2d(256, eps=1e-05, momentum=0.1, affine=True, track_running_stats=True)\n",
      "          (relu1): ReLU(inplace)\n",
      "          (conv1): Conv2d(256, 128, kernel_size=(3, 3), stride=(1, 1), padding=(1, 1), bias=False)\n",
      "          (bn2): BatchNorm2d(128, eps=1e-05, momentum=0.1, affine=True, track_running_stats=True)\n",
      "          (relu2): ReLU(inplace)\n",
      "          (conv2): Conv2d(128, 128, kernel_size=(3, 3), stride=(1, 1), padding=(1, 1), bias=False)\n",
      "          (dp): Dropout2d(p=0.5)\n",
      "        )\n",
      "        (upsample 1): GadgetronResUnetBasicBlock(\n",
      "          (bn1): BatchNorm2d(128, eps=1e-05, momentum=0.1, affine=True, track_running_stats=True)\n",
      "          (relu1): ReLU(inplace)\n",
      "          (conv1): Conv2d(128, 128, kernel_size=(3, 3), stride=(1, 1), padding=(1, 1), bias=False)\n",
      "          (bn2): BatchNorm2d(128, eps=1e-05, momentum=0.1, affine=True, track_running_stats=True)\n",
      "          (relu2): ReLU(inplace)\n",
      "          (conv2): Conv2d(128, 128, kernel_size=(3, 3), stride=(1, 1), padding=(1, 1), bias=False)\n",
      "          (dp): Dropout2d(p=0.5)\n",
      "        )\n",
      "        (upsample 2): GadgetronResUnetBasicBlock(\n",
      "          (bn1): BatchNorm2d(128, eps=1e-05, momentum=0.1, affine=True, track_running_stats=True)\n",
      "          (relu1): ReLU(inplace)\n",
      "          (conv1): Conv2d(128, 128, kernel_size=(3, 3), stride=(1, 1), padding=(1, 1), bias=False)\n",
      "          (bn2): BatchNorm2d(128, eps=1e-05, momentum=0.1, affine=True, track_running_stats=True)\n",
      "          (relu2): ReLU(inplace)\n",
      "          (conv2): Conv2d(128, 128, kernel_size=(3, 3), stride=(1, 1), padding=(1, 1), bias=False)\n",
      "          (dp): Dropout2d(p=0.5)\n",
      "        )\n",
      "      )\n",
      "    )\n",
      "    (Up layer 1): GadgetronResUnet_UpSample(\n",
      "      (blocks): Sequential(\n",
      "        (upsample 0): GadgetronResUnetBasicBlock(\n",
      "          (bn1): BatchNorm2d(256, eps=1e-05, momentum=0.1, affine=True, track_running_stats=True)\n",
      "          (relu1): ReLU(inplace)\n",
      "          (conv1): Conv2d(256, 96, kernel_size=(3, 3), stride=(1, 1), padding=(1, 1), bias=False)\n",
      "          (bn2): BatchNorm2d(96, eps=1e-05, momentum=0.1, affine=True, track_running_stats=True)\n",
      "          (relu2): ReLU(inplace)\n",
      "          (conv2): Conv2d(96, 96, kernel_size=(3, 3), stride=(1, 1), padding=(1, 1), bias=False)\n",
      "          (dp): Dropout2d(p=0.5)\n",
      "        )\n",
      "        (upsample 1): GadgetronResUnetBasicBlock(\n",
      "          (bn1): BatchNorm2d(96, eps=1e-05, momentum=0.1, affine=True, track_running_stats=True)\n",
      "          (relu1): ReLU(inplace)\n",
      "          (conv1): Conv2d(96, 96, kernel_size=(3, 3), stride=(1, 1), padding=(1, 1), bias=False)\n",
      "          (bn2): BatchNorm2d(96, eps=1e-05, momentum=0.1, affine=True, track_running_stats=True)\n",
      "          (relu2): ReLU(inplace)\n",
      "          (conv2): Conv2d(96, 96, kernel_size=(3, 3), stride=(1, 1), padding=(1, 1), bias=False)\n",
      "          (dp): Dropout2d(p=0.5)\n",
      "        )\n",
      "      )\n",
      "    )\n",
      "    (Up layer 2): GadgetronResUnet_UpSample(\n",
      "      (blocks): Sequential(\n",
      "        (upsample 0): GadgetronResUnetBasicBlock(\n",
      "          (bn1): BatchNorm2d(192, eps=1e-05, momentum=0.1, affine=True, track_running_stats=True)\n",
      "          (relu1): ReLU(inplace)\n",
      "          (conv1): Conv2d(192, 96, kernel_size=(3, 3), stride=(1, 1), padding=(1, 1), bias=False)\n",
      "          (bn2): BatchNorm2d(96, eps=1e-05, momentum=0.1, affine=True, track_running_stats=True)\n",
      "          (relu2): ReLU(inplace)\n",
      "          (conv2): Conv2d(96, 96, kernel_size=(3, 3), stride=(1, 1), padding=(1, 1), bias=False)\n",
      "          (dp): Dropout2d(p=0.5)\n",
      "        )\n",
      "        (upsample 1): GadgetronResUnetBasicBlock(\n",
      "          (bn1): BatchNorm2d(96, eps=1e-05, momentum=0.1, affine=True, track_running_stats=True)\n",
      "          (relu1): ReLU(inplace)\n",
      "          (conv1): Conv2d(96, 96, kernel_size=(3, 3), stride=(1, 1), padding=(1, 1), bias=False)\n",
      "          (bn2): BatchNorm2d(96, eps=1e-05, momentum=0.1, affine=True, track_running_stats=True)\n",
      "          (relu2): ReLU(inplace)\n",
      "          (conv2): Conv2d(96, 96, kernel_size=(3, 3), stride=(1, 1), padding=(1, 1), bias=False)\n",
      "          (dp): Dropout2d(p=0.5)\n",
      "        )\n",
      "      )\n",
      "    )\n",
      "  )\n",
      "  (output_conv): Conv2d(96, 3, kernel_size=(1, 1), stride=(1, 1))\n",
      ")\n"
     ]
    }
   ],
   "source": [
    "try:\n",
    "    best_model_cpu = best_model.cpu().module\n",
    "except:\n",
    "    \n",
    "    best_model_cpu = best_model.cpu()\n",
    "    \n",
    "print(best_model_cpu)"
   ]
  },
  {
   "cell_type": "code",
   "execution_count": 38,
   "metadata": {},
   "outputs": [
    {
     "name": "stdout",
     "output_type": "stream",
     "text": [
      "2019-07-04\n",
      "20190705_013036\n"
     ]
    }
   ],
   "source": [
    "from datetime import date\n",
    "today = str(date.today())\n",
    "print(today)\n",
    "\n",
    "from time import gmtime, strftime\n",
    "moment = strftime(\"%Y%m%d_%H%M%S\", gmtime())\n",
    "print(moment)"
   ]
  },
  {
   "cell_type": "code",
   "execution_count": 39,
   "metadata": {},
   "outputs": [
    {
     "name": "stdout",
     "output_type": "stream",
     "text": [
      "./deployment/networks/perf_aif_lv_rv_network_20190705_013036.pbt\n"
     ]
    }
   ],
   "source": [
    "model_file = './deployment/networks/perf_aif_' + perf_aif_dataset.which_mask + '_network_' + moment + '.pbt'\n",
    "print(model_file)"
   ]
  },
  {
   "cell_type": "code",
   "execution_count": 40,
   "metadata": {},
   "outputs": [],
   "source": [
    "torch.save(best_model_cpu, model_file)"
   ]
  },
  {
   "cell_type": "code",
   "execution_count": 41,
   "metadata": {},
   "outputs": [
    {
     "name": "stdout",
     "output_type": "stream",
     "text": [
      "GadgetronResUnet(\n",
      "  (input_layer): GadgetronResUnetInputBlock(\n",
      "    (conv1): Conv2d(64, 96, kernel_size=(3, 3), stride=(1, 1), padding=(1, 1), bias=False)\n",
      "    (bn1): BatchNorm2d(96, eps=1e-05, momentum=0.1, affine=True, track_running_stats=True)\n",
      "    (relu): ReLU(inplace)\n",
      "    (conv2): Conv2d(96, 96, kernel_size=(3, 3), stride=(1, 1), padding=(1, 1), bias=False)\n",
      "  )\n",
      "  (down_layers): Sequential(\n",
      "    (Down layer 0): Sequential(\n",
      "      (downsample): MaxPool2d(kernel_size=2, stride=2, padding=0, dilation=1, ceil_mode=False)\n",
      "      (ResBlock0): GadgetronResUnetBasicBlock(\n",
      "        (bn1): BatchNorm2d(96, eps=1e-05, momentum=0.1, affine=True, track_running_stats=True)\n",
      "        (relu1): ReLU(inplace)\n",
      "        (conv1): Conv2d(96, 128, kernel_size=(3, 3), stride=(1, 1), padding=(1, 1), bias=False)\n",
      "        (bn2): BatchNorm2d(128, eps=1e-05, momentum=0.1, affine=True, track_running_stats=True)\n",
      "        (relu2): ReLU(inplace)\n",
      "        (conv2): Conv2d(128, 128, kernel_size=(3, 3), stride=(1, 1), padding=(1, 1), bias=False)\n",
      "        (dp): Dropout2d(p=0.5)\n",
      "      )\n",
      "      (ResBlock1): GadgetronResUnetBasicBlock(\n",
      "        (bn1): BatchNorm2d(128, eps=1e-05, momentum=0.1, affine=True, track_running_stats=True)\n",
      "        (relu1): ReLU(inplace)\n",
      "        (conv1): Conv2d(128, 128, kernel_size=(3, 3), stride=(1, 1), padding=(1, 1), bias=False)\n",
      "        (bn2): BatchNorm2d(128, eps=1e-05, momentum=0.1, affine=True, track_running_stats=True)\n",
      "        (relu2): ReLU(inplace)\n",
      "        (conv2): Conv2d(128, 128, kernel_size=(3, 3), stride=(1, 1), padding=(1, 1), bias=False)\n",
      "        (dp): Dropout2d(p=0.5)\n",
      "      )\n",
      "    )\n",
      "    (Down layer 1): Sequential(\n",
      "      (downsample): MaxPool2d(kernel_size=2, stride=2, padding=0, dilation=1, ceil_mode=False)\n",
      "      (ResBlock0): GadgetronResUnetBasicBlock(\n",
      "        (bn1): BatchNorm2d(128, eps=1e-05, momentum=0.1, affine=True, track_running_stats=True)\n",
      "        (relu1): ReLU(inplace)\n",
      "        (conv1): Conv2d(128, 128, kernel_size=(3, 3), stride=(1, 1), padding=(1, 1), bias=False)\n",
      "        (bn2): BatchNorm2d(128, eps=1e-05, momentum=0.1, affine=True, track_running_stats=True)\n",
      "        (relu2): ReLU(inplace)\n",
      "        (conv2): Conv2d(128, 128, kernel_size=(3, 3), stride=(1, 1), padding=(1, 1), bias=False)\n",
      "        (dp): Dropout2d(p=0.5)\n",
      "      )\n",
      "      (ResBlock1): GadgetronResUnetBasicBlock(\n",
      "        (bn1): BatchNorm2d(128, eps=1e-05, momentum=0.1, affine=True, track_running_stats=True)\n",
      "        (relu1): ReLU(inplace)\n",
      "        (conv1): Conv2d(128, 128, kernel_size=(3, 3), stride=(1, 1), padding=(1, 1), bias=False)\n",
      "        (bn2): BatchNorm2d(128, eps=1e-05, momentum=0.1, affine=True, track_running_stats=True)\n",
      "        (relu2): ReLU(inplace)\n",
      "        (conv2): Conv2d(128, 128, kernel_size=(3, 3), stride=(1, 1), padding=(1, 1), bias=False)\n",
      "        (dp): Dropout2d(p=0.5)\n",
      "      )\n",
      "      (ResBlock2): GadgetronResUnetBasicBlock(\n",
      "        (bn1): BatchNorm2d(128, eps=1e-05, momentum=0.1, affine=True, track_running_stats=True)\n",
      "        (relu1): ReLU(inplace)\n",
      "        (conv1): Conv2d(128, 128, kernel_size=(3, 3), stride=(1, 1), padding=(1, 1), bias=False)\n",
      "        (bn2): BatchNorm2d(128, eps=1e-05, momentum=0.1, affine=True, track_running_stats=True)\n",
      "        (relu2): ReLU(inplace)\n",
      "        (conv2): Conv2d(128, 128, kernel_size=(3, 3), stride=(1, 1), padding=(1, 1), bias=False)\n",
      "        (dp): Dropout2d(p=0.5)\n",
      "      )\n",
      "    )\n",
      "  )\n",
      "  (bridge_layer): Sequential(\n",
      "    (downsample): MaxPool2d(kernel_size=2, stride=2, padding=0, dilation=1, ceil_mode=False)\n",
      "    (ResBlock0): GadgetronResUnetBasicBlock(\n",
      "      (bn1): BatchNorm2d(128, eps=1e-05, momentum=0.1, affine=True, track_running_stats=True)\n",
      "      (relu1): ReLU(inplace)\n",
      "      (conv1): Conv2d(128, 128, kernel_size=(3, 3), stride=(1, 1), padding=(1, 1), bias=False)\n",
      "      (bn2): BatchNorm2d(128, eps=1e-05, momentum=0.1, affine=True, track_running_stats=True)\n",
      "      (relu2): ReLU(inplace)\n",
      "      (conv2): Conv2d(128, 128, kernel_size=(3, 3), stride=(1, 1), padding=(1, 1), bias=False)\n",
      "      (dp): Dropout2d(p=0.5)\n",
      "    )\n",
      "    (ResBlock1): GadgetronResUnetBasicBlock(\n",
      "      (bn1): BatchNorm2d(128, eps=1e-05, momentum=0.1, affine=True, track_running_stats=True)\n",
      "      (relu1): ReLU(inplace)\n",
      "      (conv1): Conv2d(128, 128, kernel_size=(3, 3), stride=(1, 1), padding=(1, 1), bias=False)\n",
      "      (bn2): BatchNorm2d(128, eps=1e-05, momentum=0.1, affine=True, track_running_stats=True)\n",
      "      (relu2): ReLU(inplace)\n",
      "      (conv2): Conv2d(128, 128, kernel_size=(3, 3), stride=(1, 1), padding=(1, 1), bias=False)\n",
      "      (dp): Dropout2d(p=0.5)\n",
      "    )\n",
      "    (ResBlock2): GadgetronResUnetBasicBlock(\n",
      "      (bn1): BatchNorm2d(128, eps=1e-05, momentum=0.1, affine=True, track_running_stats=True)\n",
      "      (relu1): ReLU(inplace)\n",
      "      (conv1): Conv2d(128, 128, kernel_size=(3, 3), stride=(1, 1), padding=(1, 1), bias=False)\n",
      "      (bn2): BatchNorm2d(128, eps=1e-05, momentum=0.1, affine=True, track_running_stats=True)\n",
      "      (relu2): ReLU(inplace)\n",
      "      (conv2): Conv2d(128, 128, kernel_size=(3, 3), stride=(1, 1), padding=(1, 1), bias=False)\n",
      "      (dp): Dropout2d(p=0.5)\n",
      "    )\n",
      "  )\n",
      "  (up_layers): Sequential(\n",
      "    (Up layer 0): GadgetronResUnet_UpSample(\n",
      "      (blocks): Sequential(\n",
      "        (upsample 0): GadgetronResUnetBasicBlock(\n",
      "          (bn1): BatchNorm2d(256, eps=1e-05, momentum=0.1, affine=True, track_running_stats=True)\n",
      "          (relu1): ReLU(inplace)\n",
      "          (conv1): Conv2d(256, 128, kernel_size=(3, 3), stride=(1, 1), padding=(1, 1), bias=False)\n",
      "          (bn2): BatchNorm2d(128, eps=1e-05, momentum=0.1, affine=True, track_running_stats=True)\n",
      "          (relu2): ReLU(inplace)\n",
      "          (conv2): Conv2d(128, 128, kernel_size=(3, 3), stride=(1, 1), padding=(1, 1), bias=False)\n",
      "          (dp): Dropout2d(p=0.5)\n",
      "        )\n",
      "        (upsample 1): GadgetronResUnetBasicBlock(\n",
      "          (bn1): BatchNorm2d(128, eps=1e-05, momentum=0.1, affine=True, track_running_stats=True)\n",
      "          (relu1): ReLU(inplace)\n",
      "          (conv1): Conv2d(128, 128, kernel_size=(3, 3), stride=(1, 1), padding=(1, 1), bias=False)\n",
      "          (bn2): BatchNorm2d(128, eps=1e-05, momentum=0.1, affine=True, track_running_stats=True)\n",
      "          (relu2): ReLU(inplace)\n",
      "          (conv2): Conv2d(128, 128, kernel_size=(3, 3), stride=(1, 1), padding=(1, 1), bias=False)\n",
      "          (dp): Dropout2d(p=0.5)\n",
      "        )\n",
      "        (upsample 2): GadgetronResUnetBasicBlock(\n",
      "          (bn1): BatchNorm2d(128, eps=1e-05, momentum=0.1, affine=True, track_running_stats=True)\n",
      "          (relu1): ReLU(inplace)\n",
      "          (conv1): Conv2d(128, 128, kernel_size=(3, 3), stride=(1, 1), padding=(1, 1), bias=False)\n",
      "          (bn2): BatchNorm2d(128, eps=1e-05, momentum=0.1, affine=True, track_running_stats=True)\n",
      "          (relu2): ReLU(inplace)\n",
      "          (conv2): Conv2d(128, 128, kernel_size=(3, 3), stride=(1, 1), padding=(1, 1), bias=False)\n",
      "          (dp): Dropout2d(p=0.5)\n",
      "        )\n",
      "      )\n",
      "    )\n",
      "    (Up layer 1): GadgetronResUnet_UpSample(\n",
      "      (blocks): Sequential(\n",
      "        (upsample 0): GadgetronResUnetBasicBlock(\n",
      "          (bn1): BatchNorm2d(256, eps=1e-05, momentum=0.1, affine=True, track_running_stats=True)\n",
      "          (relu1): ReLU(inplace)\n",
      "          (conv1): Conv2d(256, 96, kernel_size=(3, 3), stride=(1, 1), padding=(1, 1), bias=False)\n",
      "          (bn2): BatchNorm2d(96, eps=1e-05, momentum=0.1, affine=True, track_running_stats=True)\n",
      "          (relu2): ReLU(inplace)\n",
      "          (conv2): Conv2d(96, 96, kernel_size=(3, 3), stride=(1, 1), padding=(1, 1), bias=False)\n",
      "          (dp): Dropout2d(p=0.5)\n",
      "        )\n",
      "        (upsample 1): GadgetronResUnetBasicBlock(\n",
      "          (bn1): BatchNorm2d(96, eps=1e-05, momentum=0.1, affine=True, track_running_stats=True)\n",
      "          (relu1): ReLU(inplace)\n",
      "          (conv1): Conv2d(96, 96, kernel_size=(3, 3), stride=(1, 1), padding=(1, 1), bias=False)\n",
      "          (bn2): BatchNorm2d(96, eps=1e-05, momentum=0.1, affine=True, track_running_stats=True)\n",
      "          (relu2): ReLU(inplace)\n",
      "          (conv2): Conv2d(96, 96, kernel_size=(3, 3), stride=(1, 1), padding=(1, 1), bias=False)\n",
      "          (dp): Dropout2d(p=0.5)\n",
      "        )\n",
      "      )\n",
      "    )\n",
      "    (Up layer 2): GadgetronResUnet_UpSample(\n",
      "      (blocks): Sequential(\n",
      "        (upsample 0): GadgetronResUnetBasicBlock(\n",
      "          (bn1): BatchNorm2d(192, eps=1e-05, momentum=0.1, affine=True, track_running_stats=True)\n",
      "          (relu1): ReLU(inplace)\n",
      "          (conv1): Conv2d(192, 96, kernel_size=(3, 3), stride=(1, 1), padding=(1, 1), bias=False)\n",
      "          (bn2): BatchNorm2d(96, eps=1e-05, momentum=0.1, affine=True, track_running_stats=True)\n",
      "          (relu2): ReLU(inplace)\n",
      "          (conv2): Conv2d(96, 96, kernel_size=(3, 3), stride=(1, 1), padding=(1, 1), bias=False)\n",
      "          (dp): Dropout2d(p=0.5)\n",
      "        )\n",
      "        (upsample 1): GadgetronResUnetBasicBlock(\n",
      "          (bn1): BatchNorm2d(96, eps=1e-05, momentum=0.1, affine=True, track_running_stats=True)\n",
      "          (relu1): ReLU(inplace)\n",
      "          (conv1): Conv2d(96, 96, kernel_size=(3, 3), stride=(1, 1), padding=(1, 1), bias=False)\n",
      "          (bn2): BatchNorm2d(96, eps=1e-05, momentum=0.1, affine=True, track_running_stats=True)\n",
      "          (relu2): ReLU(inplace)\n",
      "          (conv2): Conv2d(96, 96, kernel_size=(3, 3), stride=(1, 1), padding=(1, 1), bias=False)\n",
      "          (dp): Dropout2d(p=0.5)\n",
      "        )\n",
      "      )\n",
      "    )\n",
      "  )\n",
      "  (output_conv): Conv2d(96, 3, kernel_size=(1, 1), stride=(1, 1))\n",
      ")\n"
     ]
    }
   ],
   "source": [
    "model_loaded = torch.load(model_file)\n",
    "print(model_loaded)"
   ]
  }
 ],
 "metadata": {
  "kernelspec": {
   "display_name": "Python 3",
   "language": "python",
   "name": "python3"
  },
  "language_info": {
   "codemirror_mode": {
    "name": "ipython",
    "version": 3
   },
   "file_extension": ".py",
   "mimetype": "text/x-python",
   "name": "python",
   "nbconvert_exporter": "python",
   "pygments_lexer": "ipython3",
   "version": "3.6.6"
  },
  "toc": {
   "base_numbering": 1,
   "nav_menu": {},
   "number_sections": true,
   "sideBar": true,
   "skip_h1_title": true,
   "title_cell": "Table of Contents",
   "title_sidebar": "Contents",
   "toc_cell": false,
   "toc_position": {
    "height": "calc(100% - 180px)",
    "left": "10px",
    "top": "150px",
    "width": "165px"
   },
   "toc_section_display": true,
   "toc_window_display": true
  },
  "varInspector": {
   "cols": {
    "lenName": 16,
    "lenType": 16,
    "lenVar": 40
   },
   "kernels_config": {
    "python": {
     "delete_cmd_postfix": "",
     "delete_cmd_prefix": "del ",
     "library": "var_list.py",
     "varRefreshCmd": "print(var_dic_list())"
    },
    "r": {
     "delete_cmd_postfix": ") ",
     "delete_cmd_prefix": "rm(",
     "library": "var_list.r",
     "varRefreshCmd": "cat(var_dic_list()) "
    }
   },
   "types_to_exclude": [
    "module",
    "function",
    "builtin_function_or_method",
    "instance",
    "_Feature"
   ],
   "window_display": false
  }
 },
 "nbformat": 4,
 "nbformat_minor": 2
}
